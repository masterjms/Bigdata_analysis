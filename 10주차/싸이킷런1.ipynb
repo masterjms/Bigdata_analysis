{
 "cells": [
  {
   "cell_type": "markdown",
   "metadata": {
    "id": "5x5TUk5I-mkG"
   },
   "source": [
    "# 사이킷런"
   ]
  },
  {
   "cell_type": "markdown",
   "metadata": {
    "id": "j2SrlkLA-mkH"
   },
   "source": [
    "# 분류 알고리즘 선택"
   ]
  },
  {
   "cell_type": "markdown",
   "metadata": {
    "id": "PhT3iDPr-mkH"
   },
   "source": [
    "..."
   ]
  },
  {
   "cell_type": "code",
   "execution_count": null,
   "metadata": {
    "colab": {
     "base_uri": "https://localhost:8080/"
    },
    "execution": {
     "iopub.execute_input": "2020-10-14T04:37:23.341235Z",
     "iopub.status.busy": "2020-10-14T04:37:23.340000Z",
     "iopub.status.idle": "2020-10-14T04:37:24.434283Z",
     "shell.execute_reply": "2020-10-14T04:37:24.435651Z"
    },
    "id": "8gzR16lQ-mkI",
    "outputId": "6d013ad7-0257-4350-ff64-4c930ba4b672"
   },
   "outputs": [],
   "source": [
    "from sklearn import datasets\n",
    "import numpy as np\n",
    "\n",
    "iris = datasets.load_iris()\n",
    "X = iris.data[:, [2, 3]]\n",
    "y = iris.target\n",
    "\n",
    "print('클래스 레이블:', np.unique(y))"
   ]
  },
  {
   "cell_type": "markdown",
   "metadata": {
    "id": "PAYFPzoh-mkJ"
   },
   "source": [
    "### 70%는 훈련 데이터 30%는 테스트 데이터로 분할:"
   ]
  },
  {
   "cell_type": "code",
   "execution_count": null,
   "metadata": {
    "execution": {
     "iopub.execute_input": "2020-10-14T04:37:24.445868Z",
     "iopub.status.busy": "2020-10-14T04:37:24.444410Z",
     "iopub.status.idle": "2020-10-14T04:37:24.472336Z",
     "shell.execute_reply": "2020-10-14T04:37:24.473221Z"
    },
    "id": "PdCuhhzK-mkJ"
   },
   "outputs": [],
   "source": [
    "from sklearn.model_selection import train_test_split\n",
    "\n",
    "X_train, X_test, y_train, y_test = train_test_split(\n",
    "    X, y, test_size=0.3, random_state=1, stratify=y)"
   ]
  },
  {
   "cell_type": "code",
   "execution_count": null,
   "metadata": {
    "colab": {
     "base_uri": "https://localhost:8080/"
    },
    "execution": {
     "iopub.execute_input": "2020-10-14T04:37:24.481372Z",
     "iopub.status.busy": "2020-10-14T04:37:24.480295Z",
     "iopub.status.idle": "2020-10-14T04:37:24.485996Z",
     "shell.execute_reply": "2020-10-14T04:37:24.486970Z"
    },
    "id": "uRHHQ2fj-mkJ",
    "outputId": "2b2a6cc4-55df-4e0e-cf5c-aee83314c264"
   },
   "outputs": [],
   "source": [
    "print('y의 레이블 카운트:', np.bincount(y))\n",
    "print('y_train의 레이블 카운트:', np.bincount(y_train))\n",
    "print('y_test의 레이블 카운트:', np.bincount(y_test))"
   ]
  },
  {
   "cell_type": "markdown",
   "metadata": {
    "id": "YBvIdDMK-mkJ"
   },
   "source": [
    "특성 표준화:"
   ]
  },
  {
   "cell_type": "code",
   "execution_count": null,
   "metadata": {
    "execution": {
     "iopub.execute_input": "2020-10-14T04:37:24.497554Z",
     "iopub.status.busy": "2020-10-14T04:37:24.496291Z",
     "iopub.status.idle": "2020-10-14T04:37:24.499760Z",
     "shell.execute_reply": "2020-10-14T04:37:24.500808Z"
    },
    "id": "EYMGtmxg-mkJ"
   },
   "outputs": [],
   "source": [
    "from sklearn.preprocessing import StandardScaler\n",
    "\n",
    "sc = StandardScaler()\n",
    "sc.fit(X_train)\n",
    "X_train_std = sc.transform(X_train)\n",
    "X_test_std = sc.transform(X_test)\n"
   ]
  },
  {
   "cell_type": "markdown",
   "metadata": {
    "id": "liZHEgPP-mkK"
   },
   "source": [
    "## 사이킷런으로 퍼셉트론 훈련하기"
   ]
  },
  {
   "cell_type": "code",
   "execution_count": null,
   "metadata": {
    "colab": {
     "base_uri": "https://localhost:8080/"
    },
    "execution": {
     "iopub.execute_input": "2020-10-14T04:37:24.509190Z",
     "iopub.status.busy": "2020-10-14T04:37:24.507865Z",
     "iopub.status.idle": "2020-10-14T04:37:24.554389Z",
     "shell.execute_reply": "2020-10-14T04:37:24.555704Z"
    },
    "id": "ctcSdny3-mkK",
    "outputId": "ceaab380-8e62-4507-b6d5-976f9d60b890"
   },
   "outputs": [],
   "source": [
    "from sklearn.linear_model import Perceptron\n",
    "\n",
    "ppn = Perceptron(eta0=0.1, random_state=1)\n",
    "ppn.fit(X_train_std, y_train)"
   ]
  },
  {
   "cell_type": "code",
   "execution_count": null,
   "metadata": {
    "colab": {
     "base_uri": "https://localhost:8080/"
    },
    "execution": {
     "iopub.execute_input": "2020-10-14T04:37:24.595823Z",
     "iopub.status.busy": "2020-10-14T04:37:24.594259Z",
     "iopub.status.idle": "2020-10-14T04:37:24.599588Z",
     "shell.execute_reply": "2020-10-14T04:37:24.600953Z"
    },
    "id": "EGRBNK3l-mkK",
    "outputId": "274b3fdc-aac3-40f5-f73f-aff4b422a149"
   },
   "outputs": [],
   "source": [
    "y_pred = ppn.predict(X_test_std)\n",
    "print('잘못 분류된 샘플 개수: %d' % (y_test != y_pred).sum())"
   ]
  },
  {
   "cell_type": "code",
   "execution_count": null,
   "metadata": {
    "colab": {
     "base_uri": "https://localhost:8080/"
    },
    "execution": {
     "iopub.execute_input": "2020-10-14T04:37:24.609930Z",
     "iopub.status.busy": "2020-10-14T04:37:24.608497Z",
     "iopub.status.idle": "2020-10-14T04:37:24.612452Z",
     "shell.execute_reply": "2020-10-14T04:37:24.613399Z"
    },
    "id": "bQjr1zdm-mkK",
    "outputId": "dabac6f9-c04c-4250-b455-d53652eceddc"
   },
   "outputs": [],
   "source": [
    "from sklearn.metrics import accuracy_score\n",
    "\n",
    "print('정확도: %.3f' % accuracy_score(y_pred, y_test))"
   ]
  },
  {
   "cell_type": "code",
   "execution_count": null,
   "metadata": {
    "colab": {
     "base_uri": "https://localhost:8080/"
    },
    "execution": {
     "iopub.execute_input": "2020-10-14T04:37:24.621282Z",
     "iopub.status.busy": "2020-10-14T04:37:24.620084Z",
     "iopub.status.idle": "2020-10-14T04:37:24.624029Z",
     "shell.execute_reply": "2020-10-14T04:37:24.624972Z"
    },
    "id": "p6CVcIX6-mkL",
    "outputId": "156df995-ed70-4a88-cd4d-d5cd5f3a3d08"
   },
   "outputs": [],
   "source": [
    "print('정확도: %.3f' % ppn.score(X_test_std, y_test))"
   ]
  },
  {
   "cell_type": "code",
   "execution_count": null,
   "metadata": {
    "execution": {
     "iopub.execute_input": "2020-10-14T04:37:24.652400Z",
     "iopub.status.busy": "2020-10-14T04:37:24.651263Z",
     "iopub.status.idle": "2020-10-14T04:37:24.654335Z",
     "shell.execute_reply": "2020-10-14T04:37:24.655233Z"
    },
    "id": "hQVDNbpR-mkL"
   },
   "outputs": [],
   "source": [
    "from matplotlib.colors import ListedColormap\n",
    "import matplotlib.pyplot as plt\n",
    "\n",
    "\n",
    "def plot_decision_regions(X, y, classifier, test_idx=None, resolution=0.02):\n",
    "\n",
    "    # 마커와 컬러맵을 설정합니다.\n",
    "    markers = ('s', '>', 'o', '^', 'v')\n",
    "    colors = ('red', 'blue', 'lightgreen', 'gray', 'cyan')\n",
    "    cmap = ListedColormap(colors[:len(np.unique(y))])\n",
    "\n",
    "    # 결정 경계를 그립니다.\n",
    "    x1_min, x1_max = X[:, 0].min() - 1, X[:, 0].max() + 1\n",
    "    x2_min, x2_max = X[:, 1].min() - 1, X[:, 1].max() + 1\n",
    "    xx1, xx2 = np.meshgrid(np.arange(x1_min, x1_max, resolution),\n",
    "                           np.arange(x2_min, x2_max, resolution))\n",
    "    Z = classifier.predict(np.array([xx1.ravel(), xx2.ravel()]).T)\n",
    "    Z = Z.reshape(xx1.shape)\n",
    "    plt.contourf(xx1, xx2, Z, alpha=0.3, cmap=cmap)\n",
    "    plt.xlim(xx1.min(), xx1.max())\n",
    "    plt.ylim(xx2.min(), xx2.max())\n",
    "\n",
    "    for idx, cl in enumerate(np.unique(y)):\n",
    "        plt.scatter(x=X[y == cl, 0], \n",
    "                    y=X[y == cl, 1],\n",
    "                    alpha=0.8, \n",
    "                    c=colors[idx],\n",
    "                    marker=markers[idx], \n",
    "                    label=cl, \n",
    "                    edgecolor='black')\n",
    "\n",
    "    # 테스트 샘플을 부각하여 그립니다.\n",
    "    if test_idx:\n",
    "        # 모든 샘플을 그립니다.\n",
    "        X_test, y_test = X[test_idx, :], y[test_idx]\n",
    "\n",
    "        plt.scatter(X_test[:, 0],\n",
    "                    X_test[:, 1],\n",
    "                    facecolor='none',\n",
    "                    edgecolor='black',\n",
    "                    alpha=1.0,\n",
    "                    linewidth=1,\n",
    "                    marker='o',\n",
    "                    s=100, \n",
    "                    label='test set')"
   ]
  },
  {
   "cell_type": "markdown",
   "metadata": {
    "id": "dcYl3UeU-mkL"
   },
   "source": [
    "표준화된 훈련 데이터를 사용하여 퍼셉트론 훈련"
   ]
  },
  {
   "cell_type": "code",
   "execution_count": null,
   "metadata": {
    "colab": {
     "base_uri": "https://localhost:8080/",
     "height": 297
    },
    "execution": {
     "iopub.execute_input": "2020-10-14T04:37:24.665901Z",
     "iopub.status.busy": "2020-10-14T04:37:24.664510Z",
     "iopub.status.idle": "2020-10-14T04:37:25.314988Z",
     "shell.execute_reply": "2020-10-14T04:37:25.316306Z"
    },
    "id": "NtZqrdym-mkL",
    "outputId": "4e2cdd3b-63f1-42c0-a9a7-aa8c48987a0d"
   },
   "outputs": [],
   "source": [
    "import numpy as np\n",
    "\n",
    "X_combined_std = np.vstack((X_train_std, X_test_std))\n",
    "y_combined = np.hstack((y_train, y_test))\n",
    "\n",
    "plot_decision_regions(X=X_combined_std, y=y_combined,\n",
    "                      classifier=ppn, test_idx=range(105, 150))\n",
    "plt.xlabel('petal length [standardized]')\n",
    "plt.ylabel('petal width [standardized]')\n",
    "plt.legend(loc='upper left')\n",
    "\n",
    "plt.tight_layout()\n",
    "# plt.savefig('images/03_01.png', dpi=300)\n",
    "plt.show()"
   ]
  },
  {
   "cell_type": "markdown",
   "metadata": {
    "id": "mNjObJqq-mkM"
   },
   "source": [
    "<br>\n",
    "<br>"
   ]
  },
  {
   "cell_type": "code",
   "execution_count": null,
   "metadata": {},
   "outputs": [],
   "source": [
    "from sklearn.metrics import confusion_matrix\n",
    "from sklearn.metrics import classification_report\n",
    "\n",
    "\n",
    "cm = confusion_matrix(y_test, y_pred)\n",
    "dm = classification_report(y_test, y_pred)\n",
    "print(\"%s \\n %s\" %(cm, dm))"
   ]
  },
  {
   "cell_type": "markdown",
   "metadata": {
    "id": "n5vamdyj-mkM"
   },
   "source": [
    "# 로지스틱 회귀를 사용한 클래스 확률 모델링"
   ]
  },
  {
   "cell_type": "markdown",
   "metadata": {
    "id": "Kz2mZTBN-mkM"
   },
   "source": [
    "..."
   ]
  },
  {
   "cell_type": "code",
   "execution_count": null,
   "metadata": {
    "colab": {
     "base_uri": "https://localhost:8080/",
     "height": 297
    },
    "execution": {
     "iopub.execute_input": "2020-10-14T04:37:25.347762Z",
     "iopub.status.busy": "2020-10-14T04:37:25.341441Z",
     "iopub.status.idle": "2020-10-14T04:37:25.852133Z",
     "shell.execute_reply": "2020-10-14T04:37:25.853534Z"
    },
    "id": "3HwWEVVO-mkM",
    "outputId": "1d43f40e-e93a-4288-d809-47239b42f67f"
   },
   "outputs": [],
   "source": [
    "import matplotlib.pyplot as plt\n",
    "import numpy as np\n",
    "\n",
    "\n",
    "def sigmoid(z):\n",
    "    return 1.0 / (1.0 + np.exp(-z))\n",
    "\n",
    "z = np.arange(-7, 7, 0.1)\n",
    "phi_z = sigmoid(z)\n",
    "\n",
    "plt.plot(z, phi_z)\n",
    "plt.axvline(0.0, color='k')\n",
    "plt.ylim(-0.1, 1.1)\n",
    "plt.xlabel('z')\n",
    "plt.ylabel('$ phi (z)$')\n",
    "\n",
    "# y 축의 눈금과 격자선\n",
    "plt.yticks([0.0, 0.5, 1.0])\n",
    "ax = plt.gca()\n",
    "ax.yaxis.grid(True)\n",
    "\n",
    "plt.tight_layout()\n",
    "# plt.savefig('images/03_02.png', dpi=300)\n",
    "plt.show()"
   ]
  },
  {
   "cell_type": "markdown",
   "metadata": {
    "id": "8VWWeiGS-mkN"
   },
   "source": [
    "<br>\n",
    "<br>"
   ]
  },
  {
   "cell_type": "markdown",
   "metadata": {
    "id": "ML_DISqM-mkO"
   },
   "source": [
    "### 사이킷런을 사용해 로지스틱 회귀 모델 훈련하기"
   ]
  },
  {
   "cell_type": "code",
   "execution_count": null,
   "metadata": {
    "colab": {
     "base_uri": "https://localhost:8080/",
     "height": 297
    },
    "execution": {
     "iopub.execute_input": "2020-10-14T04:37:27.112433Z",
     "iopub.status.busy": "2020-10-14T04:37:27.108840Z",
     "iopub.status.idle": "2020-10-14T04:37:27.816712Z",
     "shell.execute_reply": "2020-10-14T04:37:27.817208Z"
    },
    "id": "3p39nTWh-mkO",
    "outputId": "0568eb93-842e-40db-93c3-1af8aeba615f"
   },
   "outputs": [],
   "source": [
    "from sklearn.linear_model import LogisticRegression\n",
    "\n",
    "lr = LogisticRegression(C=100.0, random_state=1)\n",
    "lr.fit(X_train_std, y_train)\n",
    "\n",
    "plot_decision_regions(X_combined_std, y_combined,\n",
    "                      classifier=lr, test_idx=range(105, 150))\n",
    "plt.xlabel('petal length [standardized]')\n",
    "plt.ylabel('petal width [standardized]')\n",
    "plt.legend(loc='upper left')\n",
    "plt.tight_layout()\n",
    "\n",
    "plt.show()"
   ]
  },
  {
   "cell_type": "code",
   "execution_count": null,
   "metadata": {
    "colab": {
     "base_uri": "https://localhost:8080/"
    },
    "execution": {
     "iopub.execute_input": "2020-10-14T04:37:27.823557Z",
     "iopub.status.busy": "2020-10-14T04:37:27.821840Z",
     "iopub.status.idle": "2020-10-14T04:37:27.826653Z",
     "shell.execute_reply": "2020-10-14T04:37:27.827557Z"
    },
    "id": "D_89xglc-mkO",
    "outputId": "658ba3b8-8b54-414b-b857-e7f2bae9cc16"
   },
   "outputs": [],
   "source": [
    "lr.predict_proba(X_test_std[:3, :])"
   ]
  },
  {
   "cell_type": "code",
   "execution_count": null,
   "metadata": {
    "colab": {
     "base_uri": "https://localhost:8080/"
    },
    "execution": {
     "iopub.execute_input": "2020-10-14T04:37:27.835963Z",
     "iopub.status.busy": "2020-10-14T04:37:27.834726Z",
     "iopub.status.idle": "2020-10-14T04:37:27.838945Z",
     "shell.execute_reply": "2020-10-14T04:37:27.839800Z"
    },
    "id": "v5vaGfpa-mkP",
    "outputId": "a3d3c359-dec5-4f9f-b67a-d2d251f294e2"
   },
   "outputs": [],
   "source": [
    "lr.predict_proba(X_test_std[:3, :]).sum(axis=1)"
   ]
  },
  {
   "cell_type": "code",
   "execution_count": null,
   "metadata": {
    "colab": {
     "base_uri": "https://localhost:8080/"
    },
    "execution": {
     "iopub.execute_input": "2020-10-14T04:37:27.848071Z",
     "iopub.status.busy": "2020-10-14T04:37:27.846866Z",
     "iopub.status.idle": "2020-10-14T04:37:27.851757Z",
     "shell.execute_reply": "2020-10-14T04:37:27.852620Z"
    },
    "id": "WBAEAw3d-mkP",
    "outputId": "606b2231-70ba-491c-d190-f4d7d2343e75"
   },
   "outputs": [],
   "source": [
    "lr.predict_proba(X_test_std[:3, :]).argmax(axis=1)"
   ]
  },
  {
   "cell_type": "code",
   "execution_count": null,
   "metadata": {
    "colab": {
     "base_uri": "https://localhost:8080/"
    },
    "execution": {
     "iopub.execute_input": "2020-10-14T04:37:27.860354Z",
     "iopub.status.busy": "2020-10-14T04:37:27.859086Z",
     "iopub.status.idle": "2020-10-14T04:37:27.864146Z",
     "shell.execute_reply": "2020-10-14T04:37:27.865089Z"
    },
    "id": "uiJqr9Zg-mkP",
    "outputId": "b9220702-b738-4c50-c72a-1e0fa2725901"
   },
   "outputs": [],
   "source": [
    "lr.predict(X_test_std[:3, :])"
   ]
  },
  {
   "cell_type": "code",
   "execution_count": null,
   "metadata": {
    "colab": {
     "base_uri": "https://localhost:8080/"
    },
    "execution": {
     "iopub.execute_input": "2020-10-14T04:37:27.873544Z",
     "iopub.status.busy": "2020-10-14T04:37:27.872219Z",
     "iopub.status.idle": "2020-10-14T04:37:27.878682Z",
     "shell.execute_reply": "2020-10-14T04:37:27.877592Z"
    },
    "id": "ZHxMGwZu-mkP",
    "outputId": "2333a71d-63de-4d32-8c6f-89940beb5b34"
   },
   "outputs": [],
   "source": [
    "lr.predict(X_test_std[0, :].reshape(1, -1))"
   ]
  },
  {
   "cell_type": "code",
   "execution_count": null,
   "metadata": {},
   "outputs": [],
   "source": [
    "from sklearn.metrics import confusion_matrix\n",
    "from sklearn.metrics import classification_report\n",
    "\n",
    "y_pred =  lr.predict(X_test_std)\n",
    "cm = confusion_matrix(y_test, y_pred)\n",
    "dm = classification_report(y_test, y_pred)\n",
    "\n",
    "print(\"%s \\n %s\" %(cm, dm))\n"
   ]
  },
  {
   "cell_type": "markdown",
   "metadata": {
    "id": "0_Cp36we-mkP"
   },
   "source": [
    "<br>\n",
    "<br>"
   ]
  },
  {
   "cell_type": "markdown",
   "metadata": {
    "id": "ZaUAntqL-mkQ"
   },
   "source": [
    "### 규제를 사용해 과대적합 피하기"
   ]
  },
  {
   "cell_type": "code",
   "execution_count": null,
   "metadata": {},
   "outputs": [],
   "source": [
    "lr = LogisticRegression(C=1, random_state=1)\n",
    "lr.fit(X_train_std, y_train)\n",
    "\n",
    "y_pred =  lr.predict(X_test_std)\n",
    "cm = confusion_matrix(y_test, y_pred)\n",
    "print(cm)\n"
   ]
  },
  {
   "cell_type": "markdown",
   "metadata": {
    "id": "49U3eoce-mkR"
   },
   "source": [
    "<br>\n",
    "<br>"
   ]
  },
  {
   "cell_type": "markdown",
   "metadata": {
    "id": "4Nxw9qZz-mkR"
   },
   "source": [
    "# 서포트 벡터 머신을 사용한 최대 마진 분류"
   ]
  },
  {
   "cell_type": "markdown",
   "metadata": {
    "id": "glpFVaoh-mkR"
   },
   "source": [
    "## 최대 마진"
   ]
  },
  {
   "cell_type": "markdown",
   "metadata": {
    "id": "ciTCc4NL-mkS"
   },
   "source": [
    "..."
   ]
  },
  {
   "cell_type": "markdown",
   "metadata": {
    "id": "xG3CqMZV-mkS"
   },
   "source": [
    "## 슬랙 변수를 사용하여 비선형 분류 문제 다루기"
   ]
  },
  {
   "cell_type": "code",
   "execution_count": null,
   "metadata": {
    "colab": {
     "base_uri": "https://localhost:8080/",
     "height": 297
    },
    "execution": {
     "iopub.execute_input": "2020-10-14T04:37:28.703812Z",
     "iopub.status.busy": "2020-10-14T04:37:28.702771Z",
     "iopub.status.idle": "2020-10-14T04:37:29.296397Z",
     "shell.execute_reply": "2020-10-14T04:37:29.297740Z"
    },
    "id": "_O6kLe_f-mkS",
    "outputId": "849e6302-1092-43f1-881a-c71fa5634be5"
   },
   "outputs": [],
   "source": [
    "from sklearn.svm import SVC\n",
    "\n",
    "svm = SVC(kernel='linear', C=1.0, random_state=1)\n",
    "svm.fit(X_train_std, y_train)\n",
    "\n",
    "plot_decision_regions(X_combined_std, \n",
    "                      y_combined,\n",
    "                      classifier=svm, \n",
    "                      test_idx=range(105, 150))\n",
    "plt.xlabel('petal length [standardized]')\n",
    "plt.ylabel('petal width [standardized]')\n",
    "plt.legend(loc='upper left')\n",
    "plt.tight_layout()\n",
    "# plt.savefig('images/03_11.png', dpi=300)\n",
    "plt.show()"
   ]
  },
  {
   "cell_type": "code",
   "execution_count": null,
   "metadata": {},
   "outputs": [],
   "source": [
    "from sklearn.svm import SVC\n",
    "\n",
    "svm = SVC(kernel='linear', C= 1.0, random_state=1)\n",
    "svm.fit(X_train_std, y_train)\n",
    "\n",
    "y_pred = svm.predict(X_test_std)\n",
    "cm = confusion_matrix(y_test, y_pred)\n",
    "\n",
    "print(cm)"
   ]
  },
  {
   "cell_type": "markdown",
   "metadata": {
    "id": "XqkZi2P_-mkS"
   },
   "source": [
    "## 사이킷런의 다른 구현"
   ]
  },
  {
   "cell_type": "code",
   "execution_count": null,
   "metadata": {
    "execution": {
     "iopub.execute_input": "2020-10-14T04:37:29.306304Z",
     "iopub.status.busy": "2020-10-14T04:37:29.305281Z",
     "iopub.status.idle": "2020-10-14T04:37:29.307835Z",
     "shell.execute_reply": "2020-10-14T04:37:29.308689Z"
    },
    "id": "abCXOkZw-mkS"
   },
   "outputs": [],
   "source": [
    "from sklearn.linear_model import SGDClassifier\n",
    "\n",
    "ppn = SGDClassifier(loss='perceptron')\n",
    "lr = SGDClassifier(loss='log')\n",
    "svm = SGDClassifier(loss='hinge')"
   ]
  },
  {
   "cell_type": "markdown",
   "metadata": {
    "id": "TBQL5btH-mkS"
   },
   "source": [
    "<br>\n",
    "<br>"
   ]
  },
  {
   "cell_type": "markdown",
   "metadata": {
    "id": "FZiyn9HH-mkU"
   },
   "source": [
    "<br>\n",
    "<br>"
   ]
  },
  {
   "cell_type": "markdown",
   "metadata": {
    "id": "ddItQpN1-mkW"
   },
   "source": [
    "<br>\n",
    "<br>"
   ]
  }
 ],
 "metadata": {
  "anaconda-cloud": {},
  "colab": {
   "name": "ch03.ipynb",
   "provenance": []
  },
  "kernelspec": {
   "display_name": "Python 3.12.9 64-bit",
   "language": "python",
   "name": "python3"
  },
  "language_info": {
   "codemirror_mode": {
    "name": "ipython",
    "version": 3
   },
   "file_extension": ".py",
   "mimetype": "text/x-python",
   "name": "python",
   "nbconvert_exporter": "python",
   "pygments_lexer": "ipython3",
   "version": "3.12.9"
  },
  "toc": {
   "nav_menu": {},
   "number_sections": true,
   "sideBar": true,
   "skip_h1_title": false,
   "title_cell": "Table of Contents",
   "title_sidebar": "Contents",
   "toc_cell": false,
   "toc_position": {},
   "toc_section_display": true,
   "toc_window_display": false
  },
  "vscode": {
   "interpreter": {
    "hash": "3d3db4e9decadc7cbbe01f1ffad07b5cbe325c0d8371fd9fa2a1c27565f56da0"
   }
  }
 },
 "nbformat": 4,
 "nbformat_minor": 4
}
