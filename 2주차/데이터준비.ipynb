{
 "cells": [
  {
   "cell_type": "markdown",
   "metadata": {},
   "source": [
    "## 1. 데이터의 이해"
   ]
  },
  {
   "cell_type": "markdown",
   "metadata": {},
   "source": [
    "## 2. 데이터소스 "
   ]
  },
  {
   "cell_type": "markdown",
   "metadata": {},
   "source": [
    "## 3. 데이터불러오기 "
   ]
  },
  {
   "cell_type": "markdown",
   "metadata": {},
   "source": [
    "### CSV 불러오기"
   ]
  },
  {
   "cell_type": "code",
   "execution_count": 2,
   "metadata": {},
   "outputs": [
    {
     "data": {
      "text/html": [
       "<div>\n",
       "<style scoped>\n",
       "    .dataframe tbody tr th:only-of-type {\n",
       "        vertical-align: middle;\n",
       "    }\n",
       "\n",
       "    .dataframe tbody tr th {\n",
       "        vertical-align: top;\n",
       "    }\n",
       "\n",
       "    .dataframe thead th {\n",
       "        text-align: right;\n",
       "    }\n",
       "</style>\n",
       "<table border=\"1\" class=\"dataframe\">\n",
       "  <thead>\n",
       "    <tr style=\"text-align: right;\">\n",
       "      <th></th>\n",
       "      <th>자전거번호</th>\n",
       "      <th>대여일시</th>\n",
       "      <th>대여소번호</th>\n",
       "      <th>대여소명</th>\n",
       "      <th>대여거치대</th>\n",
       "      <th>반납일시</th>\n",
       "      <th>반납대여소번호</th>\n",
       "      <th>반납대여소명</th>\n",
       "      <th>반납거치대</th>\n",
       "      <th>이용시간</th>\n",
       "      <th>이용거리</th>\n",
       "    </tr>\n",
       "  </thead>\n",
       "  <tbody>\n",
       "    <tr>\n",
       "      <th>0</th>\n",
       "      <td>SPB-23220</td>\n",
       "      <td>2019-11-01 8:48</td>\n",
       "      <td>646</td>\n",
       "      <td>장한평역 1번출구 (국민은행앞)</td>\n",
       "      <td>3.0</td>\n",
       "      <td>2019-11-01 9:01</td>\n",
       "      <td>3</td>\n",
       "      <td>중랑센터</td>\n",
       "      <td>7.0</td>\n",
       "      <td>12.0</td>\n",
       "      <td>1100.0</td>\n",
       "    </tr>\n",
       "    <tr>\n",
       "      <th>1</th>\n",
       "      <td>SPB-16216</td>\n",
       "      <td>2019-11-04 8:38</td>\n",
       "      <td>646</td>\n",
       "      <td>장한평역 1번출구 (국민은행앞)</td>\n",
       "      <td>2.0</td>\n",
       "      <td>2019-11-04 8:56</td>\n",
       "      <td>3</td>\n",
       "      <td>중랑센터</td>\n",
       "      <td>2.0</td>\n",
       "      <td>7.0</td>\n",
       "      <td>1420.0</td>\n",
       "    </tr>\n",
       "    <tr>\n",
       "      <th>2</th>\n",
       "      <td>SPB-21097</td>\n",
       "      <td>2019-11-04 8:46</td>\n",
       "      <td>646</td>\n",
       "      <td>장한평역 1번출구 (국민은행앞)</td>\n",
       "      <td>1.0</td>\n",
       "      <td>2019-11-04 8:57</td>\n",
       "      <td>3</td>\n",
       "      <td>중랑센터</td>\n",
       "      <td>7.0</td>\n",
       "      <td>10.0</td>\n",
       "      <td>NaN</td>\n",
       "    </tr>\n",
       "    <tr>\n",
       "      <th>3</th>\n",
       "      <td>SPB-22292</td>\n",
       "      <td>2019-11-05 8:34</td>\n",
       "      <td>646</td>\n",
       "      <td>장한평역 1번출구 (국민은행앞)</td>\n",
       "      <td>1.0</td>\n",
       "      <td>2019-11-05 8:45</td>\n",
       "      <td>3</td>\n",
       "      <td>중랑센터</td>\n",
       "      <td>NaN</td>\n",
       "      <td>10.0</td>\n",
       "      <td>1380.0</td>\n",
       "    </tr>\n",
       "    <tr>\n",
       "      <th>4</th>\n",
       "      <td>SPB-07935</td>\n",
       "      <td>2019-11-05 12:29</td>\n",
       "      <td>512</td>\n",
       "      <td>뚝섬역 1번 출구 옆</td>\n",
       "      <td>11.0</td>\n",
       "      <td>2019-11-05 12:39</td>\n",
       "      <td>3</td>\n",
       "      <td>중랑센터</td>\n",
       "      <td>7.0</td>\n",
       "      <td>10.0</td>\n",
       "      <td>1650.0</td>\n",
       "    </tr>\n",
       "    <tr>\n",
       "      <th>...</th>\n",
       "      <td>...</td>\n",
       "      <td>...</td>\n",
       "      <td>...</td>\n",
       "      <td>...</td>\n",
       "      <td>...</td>\n",
       "      <td>...</td>\n",
       "      <td>...</td>\n",
       "      <td>...</td>\n",
       "      <td>...</td>\n",
       "      <td>...</td>\n",
       "      <td>...</td>\n",
       "    </tr>\n",
       "    <tr>\n",
       "      <th>415</th>\n",
       "      <td>SPB-12116</td>\n",
       "      <td>2019-11-15 4:22</td>\n",
       "      <td>112</td>\n",
       "      <td>극동방송국 앞</td>\n",
       "      <td>5.0</td>\n",
       "      <td>2019-11-15 4:33</td>\n",
       "      <td>101</td>\n",
       "      <td>(구)합정동 주민센터</td>\n",
       "      <td>1.0</td>\n",
       "      <td>11.0</td>\n",
       "      <td>2200.0</td>\n",
       "    </tr>\n",
       "    <tr>\n",
       "      <th>416</th>\n",
       "      <td>SPB-17768</td>\n",
       "      <td>2019-11-15 9:31</td>\n",
       "      <td>103</td>\n",
       "      <td>망원역 2번출구 앞</td>\n",
       "      <td>14.0</td>\n",
       "      <td>2019-11-15 9:37</td>\n",
       "      <td>101</td>\n",
       "      <td>(구)합정동 주민센터</td>\n",
       "      <td>NaN</td>\n",
       "      <td>5.0</td>\n",
       "      <td>NaN</td>\n",
       "    </tr>\n",
       "    <tr>\n",
       "      <th>417</th>\n",
       "      <td>SPB-18841</td>\n",
       "      <td>2019-11-15 20:40</td>\n",
       "      <td>113</td>\n",
       "      <td>홍대입구역 2번출구 앞</td>\n",
       "      <td>24.0</td>\n",
       "      <td>2019-11-15 20:53</td>\n",
       "      <td>101</td>\n",
       "      <td>(구)합정동 주민센터</td>\n",
       "      <td>1.0</td>\n",
       "      <td>12.0</td>\n",
       "      <td>2280.0</td>\n",
       "    </tr>\n",
       "    <tr>\n",
       "      <th>418</th>\n",
       "      <td>SPB-24467</td>\n",
       "      <td>2019-11-15 21:55</td>\n",
       "      <td>152</td>\n",
       "      <td>마포구민체육센터 앞</td>\n",
       "      <td>18.0</td>\n",
       "      <td>2019-11-15 22:05</td>\n",
       "      <td>101</td>\n",
       "      <td>(구)합정동 주민센터</td>\n",
       "      <td>1.0</td>\n",
       "      <td>10.0</td>\n",
       "      <td>1180.0</td>\n",
       "    </tr>\n",
       "    <tr>\n",
       "      <th>419</th>\n",
       "      <td>SPB-17570</td>\n",
       "      <td>2019-11-15 22:16</td>\n",
       "      <td>391</td>\n",
       "      <td>정동길입구</td>\n",
       "      <td>7.0</td>\n",
       "      <td>2019-11-15 23:04</td>\n",
       "      <td>101</td>\n",
       "      <td>(구)합정동 주민센터</td>\n",
       "      <td>5.0</td>\n",
       "      <td>48.0</td>\n",
       "      <td>8100.0</td>\n",
       "    </tr>\n",
       "  </tbody>\n",
       "</table>\n",
       "<p>420 rows × 11 columns</p>\n",
       "</div>"
      ],
      "text/plain": [
       "         자전거번호              대여일시  대여소번호               대여소명  대여거치대  \\\n",
       "0    SPB-23220   2019-11-01 8:48    646  장한평역 1번출구 (국민은행앞)    3.0   \n",
       "1    SPB-16216   2019-11-04 8:38    646  장한평역 1번출구 (국민은행앞)    2.0   \n",
       "2    SPB-21097   2019-11-04 8:46    646  장한평역 1번출구 (국민은행앞)    1.0   \n",
       "3    SPB-22292   2019-11-05 8:34    646  장한평역 1번출구 (국민은행앞)    1.0   \n",
       "4    SPB-07935  2019-11-05 12:29    512        뚝섬역 1번 출구 옆   11.0   \n",
       "..         ...               ...    ...                ...    ...   \n",
       "415  SPB-12116   2019-11-15 4:22    112            극동방송국 앞    5.0   \n",
       "416  SPB-17768   2019-11-15 9:31    103         망원역 2번출구 앞   14.0   \n",
       "417  SPB-18841  2019-11-15 20:40    113       홍대입구역 2번출구 앞   24.0   \n",
       "418  SPB-24467  2019-11-15 21:55    152         마포구민체육센터 앞   18.0   \n",
       "419  SPB-17570  2019-11-15 22:16    391              정동길입구    7.0   \n",
       "\n",
       "                 반납일시  반납대여소번호       반납대여소명  반납거치대  이용시간    이용거리  \n",
       "0     2019-11-01 9:01        3         중랑센터    7.0  12.0  1100.0  \n",
       "1     2019-11-04 8:56        3         중랑센터    2.0   7.0  1420.0  \n",
       "2     2019-11-04 8:57        3         중랑센터    7.0  10.0     NaN  \n",
       "3     2019-11-05 8:45        3         중랑센터    NaN  10.0  1380.0  \n",
       "4    2019-11-05 12:39        3         중랑센터    7.0  10.0  1650.0  \n",
       "..                ...      ...          ...    ...   ...     ...  \n",
       "415   2019-11-15 4:33      101  (구)합정동 주민센터    1.0  11.0  2200.0  \n",
       "416   2019-11-15 9:37      101  (구)합정동 주민센터    NaN   5.0     NaN  \n",
       "417  2019-11-15 20:53      101  (구)합정동 주민센터    1.0  12.0  2280.0  \n",
       "418  2019-11-15 22:05      101  (구)합정동 주민센터    1.0  10.0  1180.0  \n",
       "419  2019-11-15 23:04      101  (구)합정동 주민센터    5.0  48.0  8100.0  \n",
       "\n",
       "[420 rows x 11 columns]"
      ]
     },
     "execution_count": 2,
     "metadata": {},
     "output_type": "execute_result"
    }
   ],
   "source": [
    "#판다스 라이브러리 불러오기\n",
    "import pandas as pd \n",
    "\n",
    "#파일경로를 찾고 변수 file_path에 저장\n",
    "file_path= 'bicycle.csv'\n",
    "\n",
    "#read csv()함수로 데이터프레임 변환 \n",
    "df1 = pd.read_csv(file_path, encoding='CP949') #engine=\"python\") \n",
    "\n",
    "df1\n",
    "\n"
   ]
  },
  {
   "cell_type": "markdown",
   "metadata": {},
   "source": [
    "### EXCEL 불러오기"
   ]
  },
  {
   "cell_type": "code",
   "execution_count": null,
   "metadata": {},
   "outputs": [],
   "source": [
    "#라이브러리 불러오기\n",
    "import pandas as pd \n",
    "import openpyxl\n",
    "\n",
    "#파일경로를 찾고 변수 file_path에 저장\n",
    "file_path= 'bicycle.xlsx'\n",
    "\n",
    "#read_excel()함수로 데이터프레임 변환 \n",
    "df2 = pd.read_excel(file_path, engine = 'openpyxl')\n",
    "\n",
    "#데이터프레임 출력\n",
    "df2"
   ]
  },
  {
   "cell_type": "markdown",
   "metadata": {},
   "source": [
    "### JSON 불러오기"
   ]
  },
  {
   "cell_type": "code",
   "execution_count": null,
   "metadata": {},
   "outputs": [],
   "source": [
    "#라이브러리 불러오기\n",
    "import pandas as pd \n",
    "\n",
    "#파일경로를 찾고 변수 file_path에 저장\n",
    "file_path= 'read.json'\n",
    "\n",
    "#read_json()함수로 데이터프레임 변환 \n",
    "df3 = pd.read_json(file_path)\n",
    "\n",
    "#데이터프레임 출력\n",
    "df3"
   ]
  },
  {
   "cell_type": "markdown",
   "metadata": {},
   "source": [
    "## 4. 데이터저장하기 "
   ]
  },
  {
   "cell_type": "markdown",
   "metadata": {},
   "source": [
    "### CSV 파일저장"
   ]
  },
  {
   "cell_type": "code",
   "execution_count": null,
   "metadata": {},
   "outputs": [],
   "source": [
    "#라이브러리 불러오기\n",
    "import pandas as pd \n",
    "#파일경로를 찾고 변수 file_path에 저장\n",
    "file_path= 'bicycle.csv'\n",
    "\n",
    "#read csv()함수로 데이터프레임 변환 \n",
    "df4= pd.read_csv(file_path, encoding='CP949')\n",
    "\n",
    "#to_csv 함수를 사용 csv파일로 내보내기\n",
    "# :\\data폴더에 sample_data.csv 저장 \n",
    "df4.to_csv('sample_data.csv')\n",
    "\n",
    "\n",
    "#저장 파일 확인 \n",
    "file_path= 'sample_data.csv'\n",
    "df5 = pd.read_csv(file_path)\n",
    "print(df5)"
   ]
  },
  {
   "cell_type": "markdown",
   "metadata": {},
   "source": [
    "### Excle 파일저장"
   ]
  },
  {
   "cell_type": "code",
   "execution_count": null,
   "metadata": {},
   "outputs": [],
   "source": [
    "#라이브러리 불러오기\n",
    "import pandas as pd \n",
    "\n",
    "#파일경로를 찾고 변수 file_path에 저장\n",
    "file_path= 'bicycle.xlsx'\n",
    "\n",
    "#read excel()함수로 데이터프레임 변환 \n",
    "df6= pd.read_excel(file_path)\n",
    "\n",
    "#to_excel 메소드를 사용하여 excel 파일로 내보내기\n",
    "#파일명은 sample_data1.xlsx로 저장 \n",
    "df6.to_excel('sample_data1.xlsx')\n",
    "\n",
    "#데이터폴더 저장확인 "
   ]
  },
  {
   "cell_type": "markdown",
   "metadata": {},
   "source": [
    "### JSON 파일저장"
   ]
  },
  {
   "cell_type": "code",
   "execution_count": null,
   "metadata": {},
   "outputs": [],
   "source": [
    "#라이브러리 불러오기\n",
    "import pandas as pd \n",
    "\n",
    "#파일경로를 찾고 변수 file_path에 저장\n",
    "file_path= 'read.json'\n",
    "\n",
    "#read_json()함수로 데이터프레임 변환 \n",
    "df7 = pd.read_json(file_path)\n",
    "df7\n",
    "\n",
    "# to_json() 메소드를 사용하여 JSON 파일로 내보내기\n",
    "#파일명은 sample_json_data. json'로 저장 \n",
    "df7.to_json ('sample_json_data.json')\n",
    "\n",
    "#데이터폴더 저장확인 "
   ]
  },
  {
   "cell_type": "markdown",
   "metadata": {},
   "source": [
    "### 피클저장하기"
   ]
  },
  {
   "cell_type": "code",
   "execution_count": null,
   "metadata": {},
   "outputs": [],
   "source": [
    "import pickle\n",
    "import pandas as pd\n",
    "\n",
    "temp = pd.DataFrame({'a':[1], 'b':[2]})\n",
    "\n",
    "# 데이터 저장\n",
    "temp.to_pickle('filename.pkl')\n",
    "\n",
    "# 데이터 로드\n",
    "data = pd.read_pickle('filename.pkl')\n"
   ]
  },
  {
   "cell_type": "markdown",
   "metadata": {},
   "source": [
    "## 5. 공공데이터 OPEN API "
   ]
  },
  {
   "cell_type": "markdown",
   "metadata": {},
   "source": [
    "### 공공데이터 "
   ]
  },
  {
   "cell_type": "code",
   "execution_count": null,
   "metadata": {},
   "outputs": [],
   "source": [
    "from urllib.request import Request, urlopen\n",
    "from urllib.parse import urlencode, quote_plus, unquote\n",
    "import pandas as pd\n",
    "import json\n",
    "import numpy as np\n",
    "\n",
    "API_Key = unquote('aghfxaCD5%2B%2FRdrHo%2BjtqKV3ACSxKc7SGQCvnvwUmD59U%2Bg9d76AGxwNzmNjVI2w%2FOXSOi82sD7GZEAWDO5rRhA%3D%3D')\n",
    "url = 'http://apis.data.go.kr/1360000/AsosDalyInfoService/getWthrDataList'\n",
    "queryParams = '?' + urlencode({ quote_plus('ServiceKey') : API_Key, quote_plus('pageNo') : '1', quote_plus('numOfRows') : '10', quote_plus('dataType') : 'JSON', quote_plus('dataCd') : 'ASOS', quote_plus('dateCd') : 'DAY', quote_plus('startDt') : '20250101', quote_plus('endDt') : '20250110', quote_plus('stnIds') : '108' })\n",
    "request = Request(url + queryParams)\n",
    "\n",
    "\n",
    "request.get_method = lambda: 'GET'\n",
    "response_body = urlopen(request).read().decode('utf-8')\n",
    "a = json.loads(response_body)\n",
    "\n",
    "json_data = pd.DataFrame(a['response']['body']['items']['item'])\n",
    "\n",
    "\n",
    "b=np.arange(len(json_data['minTa']))\n",
    "\n",
    "for i in range(len(json_data['minTa'])):\n",
    "    b[i]= float(json_data['minTa'][i])\n",
    "\n",
    "print(b.mean(),b.sum())"
   ]
  },
  {
   "cell_type": "markdown",
   "metadata": {},
   "source": [
    "## 6. 웹 스크래핑"
   ]
  },
  {
   "cell_type": "code",
   "execution_count": null,
   "metadata": {},
   "outputs": [],
   "source": [
    "from bs4 import BeautifulSoup as bs\n",
    "import requests\n",
    "#import os\n",
    "\n",
    "file_path = \"food.html\"\n",
    "with open(file_path, \"r\", encoding=\"utf-8\") as file:\n",
    "     soup = bs(file.read(), \"html.parser\")  # HTML 파싱\n",
    "\n",
    "title = soup.find(\"h1\")\n",
    "\n",
    "print(title.text)\n",
    "\n",
    "list = soup.find_all(\"div\", class_=\"restaurant\")\n",
    "\n",
    "for i in range(len(list)):\n",
    "    print(list[i].text)  \n",
    "    \n"
   ]
  },
  {
   "cell_type": "code",
   "execution_count": null,
   "metadata": {},
   "outputs": [],
   "source": [
    "from bs4 import BeautifulSoup as bs\n",
    "import requests\n",
    "\n",
    "html=requests.get(\"https://sports.news.naver.com/kbaseball/record/index?category=kbo\")\n",
    "soup=bs(html.text,'html.parser')\n",
    "\n",
    "pitch = soup.find_all('ol', attrs={\"class\":\"ph_rank\"})\n",
    "\n",
    "for i in range(3):\n",
    "    rank = pitch[i].find_all('li')\n",
    "    for j in range(5):\n",
    "        print(\"%d위: %s\" %(j+1, rank[j].text))\n"
   ]
  }
 ],
 "metadata": {
  "kernelspec": {
   "display_name": "Python 3",
   "language": "python",
   "name": "python3"
  },
  "language_info": {
   "codemirror_mode": {
    "name": "ipython",
    "version": 3
   },
   "file_extension": ".py",
   "mimetype": "text/x-python",
   "name": "python",
   "nbconvert_exporter": "python",
   "pygments_lexer": "ipython3",
   "version": "3.12.1"
  }
 },
 "nbformat": 4,
 "nbformat_minor": 2
}
