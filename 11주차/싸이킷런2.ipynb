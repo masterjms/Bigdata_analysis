{
 "cells": [
  {
   "cell_type": "markdown",
   "metadata": {
    "id": "tCpKzXA9-mkT"
   },
   "source": [
    "# 커널 SVM을 사용하여 비선형 문제 풀기"
   ]
  },
  {
   "cell_type": "code",
   "execution_count": null,
   "metadata": {
    "colab": {
     "base_uri": "https://localhost:8080/",
     "height": 297
    },
    "execution": {
     "iopub.execute_input": "2020-10-14T04:37:29.361902Z",
     "iopub.status.busy": "2020-10-14T04:37:29.359514Z",
     "iopub.status.idle": "2020-10-14T04:37:29.719128Z",
     "shell.execute_reply": "2020-10-14T04:37:29.720442Z"
    },
    "id": "WNdw35er-mkT",
    "outputId": "2709410e-ab52-460f-90c7-163c109451a2"
   },
   "outputs": [],
   "source": [
    "import matplotlib.pyplot as plt\n",
    "import numpy as np\n",
    "\n",
    "np.random.seed(1)\n",
    "X_xor = np.random.randn(200, 2)\n",
    "\n",
    "y_xor = np.logical_xor(X_xor[:, 0] > 0,\n",
    "                       X_xor[:, 1] > 0)\n",
    "\n",
    "y_xor = np.where(y_xor, 1, -1)\n",
    "\n",
    "plt.scatter(X_xor[y_xor == 1, 0],\n",
    "            X_xor[y_xor == 1, 1],\n",
    "            c='b', marker='^',\n",
    "            label='1')\n",
    "plt.scatter(X_xor[y_xor == -1, 0],\n",
    "            X_xor[y_xor == -1, 1],\n",
    "            c='r',\n",
    "            marker='s',\n",
    "            label='-1')\n",
    "\n",
    "plt.xlim([-3, 3])\n",
    "plt.ylim([-3, 3])\n",
    "plt.legend(loc='best')\n",
    "plt.tight_layout()\n",
    "# plt.savefig('images/03_12.png', dpi=300)\n",
    "plt.show()"
   ]
  },
  {
   "cell_type": "code",
   "execution_count": null,
   "metadata": {
    "execution": {
     "iopub.execute_input": "2020-10-14T04:37:24.652400Z",
     "iopub.status.busy": "2020-10-14T04:37:24.651263Z",
     "iopub.status.idle": "2020-10-14T04:37:24.654335Z",
     "shell.execute_reply": "2020-10-14T04:37:24.655233Z"
    },
    "id": "hQVDNbpR-mkL"
   },
   "outputs": [],
   "source": [
    "from matplotlib.colors import ListedColormap\n",
    "import matplotlib.pyplot as plt\n",
    "\n",
    "\n",
    "def plot_decision_regions(X, y, classifier, test_idx=None, resolution=0.02):\n",
    "\n",
    "    # 마커와 컬러맵을 설정합니다.\n",
    "    markers = ('s', '>', 'o', '^', 'v')\n",
    "    colors = ('red', 'blue', 'lightgreen', 'gray', 'cyan')\n",
    "    cmap = ListedColormap(colors[:len(np.unique(y))])\n",
    "\n",
    "    # 결정 경계를 그립니다.\n",
    "    x1_min, x1_max = X[:, 0].min() - 1, X[:, 0].max() + 1\n",
    "    x2_min, x2_max = X[:, 1].min() - 1, X[:, 1].max() + 1\n",
    "    xx1, xx2 = np.meshgrid(np.arange(x1_min, x1_max, resolution),\n",
    "                           np.arange(x2_min, x2_max, resolution))\n",
    "    Z = classifier.predict(np.array([xx1.ravel(), xx2.ravel()]).T)\n",
    "    Z = Z.reshape(xx1.shape)\n",
    "    plt.contourf(xx1, xx2, Z, alpha=0.3, cmap=cmap)\n",
    "    plt.xlim(xx1.min(), xx1.max())\n",
    "    plt.ylim(xx2.min(), xx2.max())\n",
    "\n",
    "    for idx, cl in enumerate(np.unique(y)):\n",
    "        plt.scatter(x=X[y == cl, 0], \n",
    "                    y=X[y == cl, 1],\n",
    "                    alpha=0.8, \n",
    "                    c=colors[idx],\n",
    "                    marker=markers[idx], \n",
    "                    label=cl, \n",
    "                    edgecolor='black')\n",
    "\n",
    "    # 테스트 샘플을 부각하여 그립니다.\n",
    "    if test_idx:\n",
    "        # 모든 샘플을 그립니다.\n",
    "        X_test, y_test = X[test_idx, :], y[test_idx]\n",
    "\n",
    "        plt.scatter(X_test[:, 0],\n",
    "                    X_test[:, 1],\n",
    "                    facecolor='none',\n",
    "                    edgecolor='black',\n",
    "                    alpha=1.0,\n",
    "                    linewidth=1,\n",
    "                    marker='o',\n",
    "                    s=100, \n",
    "                    label='test set')"
   ]
  },
  {
   "cell_type": "markdown",
   "metadata": {
    "id": "jQmS6Ktw-mkT"
   },
   "source": [
    "## 커널 기법을 사용해 고차원 공간에서 분할 초평면 찾기"
   ]
  },
  {
   "cell_type": "code",
   "execution_count": null,
   "metadata": {
    "colab": {
     "base_uri": "https://localhost:8080/",
     "height": 297
    },
    "execution": {
     "iopub.execute_input": "2020-10-14T04:37:29.805238Z",
     "iopub.status.busy": "2020-10-14T04:37:29.804348Z",
     "iopub.status.idle": "2020-10-14T04:37:30.485824Z",
     "shell.execute_reply": "2020-10-14T04:37:30.487326Z"
    },
    "id": "538iZGBd-mkT",
    "outputId": "9e511d11-e05f-4c9e-87ad-40c2eada1abb"
   },
   "outputs": [],
   "source": [
    "from sklearn.svm import SVC\n",
    "svm = SVC(kernel='rbf', random_state=1, gamma=0.10, C=10.0)\n",
    "svm.fit(X_xor, y_xor)\n",
    "plot_decision_regions(X_xor, y_xor,\n",
    "                      classifier=svm)\n",
    "\n",
    "plt.legend(loc='upper left')\n",
    "plt.tight_layout()\n",
    "# plt.savefig('images/03_14.png', dpi=300)\n",
    "plt.show()"
   ]
  },
  {
   "cell_type": "code",
   "execution_count": null,
   "metadata": {
    "colab": {
     "base_uri": "https://localhost:8080/"
    },
    "execution": {
     "iopub.execute_input": "2020-10-14T04:37:23.341235Z",
     "iopub.status.busy": "2020-10-14T04:37:23.340000Z",
     "iopub.status.idle": "2020-10-14T04:37:24.434283Z",
     "shell.execute_reply": "2020-10-14T04:37:24.435651Z"
    },
    "id": "8gzR16lQ-mkI",
    "outputId": "6d013ad7-0257-4350-ff64-4c930ba4b672"
   },
   "outputs": [],
   "source": [
    "from sklearn import datasets\n",
    "import numpy as np\n",
    "\n",
    "iris = datasets.load_iris()\n",
    "X = iris.data[:, [2, 3]]\n",
    "y = iris.target"
   ]
  },
  {
   "cell_type": "code",
   "execution_count": null,
   "metadata": {
    "execution": {
     "iopub.execute_input": "2020-10-14T04:37:24.445868Z",
     "iopub.status.busy": "2020-10-14T04:37:24.444410Z",
     "iopub.status.idle": "2020-10-14T04:37:24.472336Z",
     "shell.execute_reply": "2020-10-14T04:37:24.473221Z"
    },
    "id": "PdCuhhzK-mkJ"
   },
   "outputs": [],
   "source": [
    "from sklearn.model_selection import train_test_split\n",
    "\n",
    "X_train, X_test, y_train, y_test = train_test_split(\n",
    "    X, y, test_size=0.3, random_state=1, stratify=y)"
   ]
  },
  {
   "cell_type": "code",
   "execution_count": null,
   "metadata": {
    "execution": {
     "iopub.execute_input": "2020-10-14T04:37:24.497554Z",
     "iopub.status.busy": "2020-10-14T04:37:24.496291Z",
     "iopub.status.idle": "2020-10-14T04:37:24.499760Z",
     "shell.execute_reply": "2020-10-14T04:37:24.500808Z"
    },
    "id": "EYMGtmxg-mkJ"
   },
   "outputs": [],
   "source": [
    "from sklearn.preprocessing import StandardScaler\n",
    "\n",
    "sc = StandardScaler()\n",
    "sc.fit(X_train)\n",
    "X_train_std = sc.transform(X_train)\n",
    "X_test_std = sc.transform(X_test)"
   ]
  },
  {
   "cell_type": "code",
   "execution_count": null,
   "metadata": {
    "colab": {
     "base_uri": "https://localhost:8080/",
     "height": 297
    },
    "execution": {
     "iopub.execute_input": "2020-10-14T04:37:30.501380Z",
     "iopub.status.busy": "2020-10-14T04:37:30.499570Z",
     "iopub.status.idle": "2020-10-14T04:37:31.058482Z",
     "shell.execute_reply": "2020-10-14T04:37:31.059938Z"
    },
    "id": "87yFL6yF-mkT",
    "outputId": "d3481395-14a3-4b9e-ceea-5f61300def52"
   },
   "outputs": [],
   "source": [
    "from sklearn.svm import SVC\n",
    "from sklearn.preprocessing import StandardScaler\n",
    "\n",
    "\n",
    "svm = SVC(kernel='rbf', random_state=1, gamma=0.1, C=1.0)\n",
    "svm.fit(X_train_std, y_train)\n",
    "\n",
    "X_combined_std = np.vstack((X_train_std, X_test_std))\n",
    "y_combined = np.hstack((y_train, y_test))\n",
    "\n",
    "plot_decision_regions(X_combined_std, y_combined,\n",
    "                      classifier=svm, test_idx=range(105, 150))\n",
    "plt.xlabel('petal length [standardized]')\n",
    "plt.ylabel('petal width [standardized]')\n",
    "plt.legend(loc='upper left')\n",
    "plt.tight_layout()\n",
    "# plt.savefig('images/03_15.png', dpi=300)\n",
    "plt.show()"
   ]
  },
  {
   "cell_type": "code",
   "execution_count": null,
   "metadata": {},
   "outputs": [],
   "source": [
    "from sklearn.metrics import confusion_matrix\n",
    "from sklearn.metrics import classification_report\n",
    "\n",
    "\n",
    "svm = SVC(kernel='rbf', random_state=1, gamma=0.2, C=1.0)\n",
    "svm.fit(X_train_std, y_train)\n",
    "\n",
    "y_pred = svm.predict(X_test_std)\n",
    "\n",
    "cm = confusion_matrix(y_test, y_pred)\n",
    "dm = classification_report(y_test, y_pred)\n",
    "print(\"%s \\n %s\" %(cm, dm))"
   ]
  },
  {
   "cell_type": "code",
   "execution_count": null,
   "metadata": {
    "colab": {
     "base_uri": "https://localhost:8080/",
     "height": 297
    },
    "execution": {
     "iopub.execute_input": "2020-10-14T04:37:31.077849Z",
     "iopub.status.busy": "2020-10-14T04:37:31.076262Z",
     "iopub.status.idle": "2020-10-14T04:37:31.749978Z",
     "shell.execute_reply": "2020-10-14T04:37:31.751306Z"
    },
    "id": "rV27rLZC-mkT",
    "outputId": "2ea7b7a3-c41c-49e5-aab1-d7e38a9f18f2"
   },
   "outputs": [],
   "source": [
    "svm = SVC(kernel='rbf', random_state=1, gamma=100.0, C=1.0)\n",
    "svm.fit(X_train_std, y_train)\n",
    "\n",
    "plot_decision_regions(X_combined_std, y_combined, \n",
    "                      classifier=svm, test_idx=range(105, 150))\n",
    "plt.xlabel('petal length [standardized]')\n",
    "plt.ylabel('petal width [standardized]')\n",
    "plt.legend(loc='upper left')\n",
    "plt.tight_layout()\n",
    "# plt.savefig('images/03_16.png', dpi=300)\n",
    "plt.show()"
   ]
  },
  {
   "cell_type": "code",
   "execution_count": null,
   "metadata": {},
   "outputs": [],
   "source": [
    "svm = SVC(kernel='rbf', random_state=1, gamma=10, C=1.0)\n",
    "svm.fit(X_train_std, y_train)\n",
    "\n",
    "y_pred = svm.predict(X_test_std)\n",
    "cm = confusion_matrix(y_test, y_pred)\n",
    "dm = classification_report(y_test, y_pred)\n",
    "\n",
    "print(\"%s \\n %s\" %(cm, dm))"
   ]
  },
  {
   "cell_type": "markdown",
   "metadata": {
    "id": "nnSy2y1u-mkU"
   },
   "source": [
    "# 결정 트리 학습"
   ]
  },
  {
   "cell_type": "markdown",
   "metadata": {
    "id": "yv7kDTHS-mkU"
   },
   "source": [
    "## 정보 이득 최대화 - 자원을 최대로 활용하기"
   ]
  },
  {
   "cell_type": "code",
   "execution_count": null,
   "metadata": {
    "colab": {
     "base_uri": "https://localhost:8080/",
     "height": 307
    },
    "execution": {
     "iopub.execute_input": "2020-10-14T04:37:31.889713Z",
     "iopub.status.busy": "2020-10-14T04:37:31.889005Z",
     "iopub.status.idle": "2020-10-14T04:37:32.357075Z",
     "shell.execute_reply": "2020-10-14T04:37:32.357833Z"
    },
    "id": "FnIiNPvD-mkU",
    "outputId": "35638de4-0137-4305-8fce-0dd4ea7f7b87"
   },
   "outputs": [],
   "source": [
    "import matplotlib.pyplot as plt\n",
    "import numpy as np\n",
    "\n",
    "\n",
    "def gini(p):\n",
    "    return p * (1 - p) + (1 - p) * (1 - (1 - p))\n",
    "\n",
    "\n",
    "def entropy(p):\n",
    "    return - p * np.log2(p) - (1 - p) * np.log2((1 - p))\n",
    "\n",
    "\n",
    "def error(p):\n",
    "    return 1 - np.max([p, 1 - p])\n",
    "\n",
    "x = np.arange(0.0, 1.0, 0.01)\n",
    "\n",
    "ent = [entropy(p) if p != 0 else None for p in x]\n",
    "sc_ent = [e * 0.5 if e else None for e in ent]\n",
    "err = [error(i) for i in x]\n",
    "\n",
    "fig = plt.figure()\n",
    "ax = plt.subplot(111)\n",
    "for i, lab, ls, c, in zip([ent, sc_ent, gini(x), err], \n",
    "                          ['Entropy', 'Entropy (scaled)', \n",
    "                           'Gini impurity', 'Misclassification error'],\n",
    "                          ['-', '-', '--', '-.'],\n",
    "                          ['black', 'lightgray', 'red', 'green', 'cyan']):\n",
    "    line = ax.plot(x, i, label=lab, linestyle=ls, lw=2, color=c)\n",
    "\n",
    "ax.legend(loc='upper center', bbox_to_anchor=(0.5, 1.15),\n",
    "          ncol=5, fancybox=True, shadow=False)\n",
    "\n",
    "ax.axhline(y=0.5, linewidth=1, color='k', linestyle='--')\n",
    "ax.axhline(y=1.0, linewidth=1, color='k', linestyle='--')\n",
    "plt.ylim([0, 1.1])\n",
    "plt.xlabel('p(i=1)')\n",
    "plt.ylabel('impurity index')\n",
    "# plt.savefig('images/03_19.png', dpi=300, bbox_inches='tight')\n",
    "plt.show()"
   ]
  },
  {
   "cell_type": "markdown",
   "metadata": {
    "id": "ap06fLrJ-mkU"
   },
   "source": [
    "<br>\n",
    "<br>"
   ]
  },
  {
   "cell_type": "markdown",
   "metadata": {
    "id": "wCnpDjkk-mkV"
   },
   "source": [
    "## 결정 트리 만들기"
   ]
  },
  {
   "cell_type": "code",
   "execution_count": null,
   "metadata": {
    "colab": {
     "base_uri": "https://localhost:8080/"
    },
    "execution": {
     "iopub.execute_input": "2020-10-14T04:37:23.341235Z",
     "iopub.status.busy": "2020-10-14T04:37:23.340000Z",
     "iopub.status.idle": "2020-10-14T04:37:24.434283Z",
     "shell.execute_reply": "2020-10-14T04:37:24.435651Z"
    },
    "id": "8gzR16lQ-mkI",
    "outputId": "6d013ad7-0257-4350-ff64-4c930ba4b672"
   },
   "outputs": [],
   "source": [
    "from sklearn import datasets\n",
    "import numpy as np\n",
    "\n",
    "iris = datasets.load_iris()\n",
    "X = iris.data[:,[2,3]]\n",
    "y = iris.target\n"
   ]
  },
  {
   "cell_type": "markdown",
   "metadata": {
    "id": "PAYFPzoh-mkJ"
   },
   "source": [
    "70%는 훈련 데이터 30%는 테스트 데이터로 분할합니다:"
   ]
  },
  {
   "cell_type": "code",
   "execution_count": null,
   "metadata": {
    "execution": {
     "iopub.execute_input": "2020-10-14T04:37:24.445868Z",
     "iopub.status.busy": "2020-10-14T04:37:24.444410Z",
     "iopub.status.idle": "2020-10-14T04:37:24.472336Z",
     "shell.execute_reply": "2020-10-14T04:37:24.473221Z"
    },
    "id": "PdCuhhzK-mkJ"
   },
   "outputs": [],
   "source": [
    "from sklearn.model_selection import train_test_split\n",
    "\n",
    "X_train, X_test, y_train, y_test = train_test_split(\n",
    "    X, y, test_size=0.3, random_state=1, stratify=y)"
   ]
  },
  {
   "cell_type": "code",
   "execution_count": null,
   "metadata": {
    "colab": {
     "base_uri": "https://localhost:8080/",
     "height": 297
    },
    "execution": {
     "iopub.execute_input": "2020-10-14T04:37:32.370801Z",
     "iopub.status.busy": "2020-10-14T04:37:32.369252Z",
     "iopub.status.idle": "2020-10-14T04:37:33.020721Z",
     "shell.execute_reply": "2020-10-14T04:37:33.021278Z"
    },
    "id": "exDvo2T_-mkV",
    "outputId": "5bf7d910-6384-48d1-964a-2a3e5ec4c97b"
   },
   "outputs": [],
   "source": [
    "from sklearn.tree import DecisionTreeClassifier\n",
    "\n",
    "tree_model = DecisionTreeClassifier(criterion='gini', \n",
    "                                    max_depth=4, \n",
    "                                    random_state=1)\n",
    "tree_model.fit(X_train, y_train)\n",
    "\n",
    "X_combined = np.vstack((X_train, X_test))\n",
    "y_combined = np.hstack((y_train, y_test))\n",
    "plot_decision_regions(X_combined, y_combined, \n",
    "                      classifier=tree_model,\n",
    "                      test_idx=range(105, 150))\n",
    "\n",
    "plt.xlabel('petal length [cm]')\n",
    "plt.ylabel('petal width [cm]')\n",
    "plt.legend(loc='upper left')\n",
    "plt.tight_layout()\n",
    "# plt.savefig('images/03_20.png', dpi=300)\n",
    "plt.show()"
   ]
  },
  {
   "cell_type": "code",
   "execution_count": null,
   "metadata": {
    "colab": {
     "base_uri": "https://localhost:8080/",
     "height": 248
    },
    "execution": {
     "iopub.execute_input": "2020-10-14T04:37:33.048435Z",
     "iopub.status.busy": "2020-10-14T04:37:33.045526Z",
     "iopub.status.idle": "2020-10-14T04:37:33.615442Z",
     "shell.execute_reply": "2020-10-14T04:37:33.616273Z"
    },
    "id": "vt8TzBIa-mkV",
    "outputId": "1f3b1a05-f8ea-4b30-85c5-225c6f37ac1a"
   },
   "outputs": [],
   "source": [
    "from sklearn import tree\n",
    "\n",
    "tree.plot_tree(tree_model)\n",
    "plt.show()"
   ]
  },
  {
   "cell_type": "code",
   "execution_count": null,
   "metadata": {
    "colab": {
     "base_uri": "https://localhost:8080/",
     "height": 248
    },
    "execution": {
     "iopub.execute_input": "2020-10-14T04:37:33.048435Z",
     "iopub.status.busy": "2020-10-14T04:37:33.045526Z",
     "iopub.status.idle": "2020-10-14T04:37:33.615442Z",
     "shell.execute_reply": "2020-10-14T04:37:33.616273Z"
    },
    "id": "ktBjPuqA-mkV",
    "outputId": "0246304e-1270-44cb-be61-2ec68bac4e66"
   },
   "outputs": [],
   "source": [
    "tree.plot_tree(tree_model,\n",
    "               impurity=True,\n",
    "               filled=True, \n",
    "               rounded=True,\n",
    "               class_names=['Setosa', \n",
    "                            'Versicolor',\n",
    "                            'Virginica'],\n",
    "               feature_names=['petal length', \n",
    "                              'petal width'])\n",
    "plt.show()"
   ]
  },
  {
   "cell_type": "code",
   "execution_count": null,
   "metadata": {},
   "outputs": [],
   "source": [
    "from sklearn.metrics import confusion_matrix\n",
    "from sklearn.metrics import classification_report\n",
    "\n",
    "\n",
    "tree_model = DecisionTreeClassifier(criterion='entropy', \n",
    "                                    max_depth=6, \n",
    "                                    random_state=1)\n",
    "tree_model.fit(X_train, y_train)\n",
    "\n",
    "y_pred = tree_model.predict(X_test)\n",
    "cm = confusion_matrix(y_test, y_pred)\n",
    "dm = classification_report(y_test, y_pred)\n",
    "\n",
    "print(\"%s \\n %s\" %(cm, dm))"
   ]
  },
  {
   "cell_type": "markdown",
   "metadata": {
    "id": "b-nJfH4N-mkW"
   },
   "source": [
    "## 랜덤 포레스트로 여러 개의 결정 트리 연결하기"
   ]
  },
  {
   "cell_type": "code",
   "execution_count": null,
   "metadata": {
    "colab": {
     "base_uri": "https://localhost:8080/",
     "height": 297
    },
    "execution": {
     "iopub.execute_input": "2020-10-14T04:37:33.907824Z",
     "iopub.status.busy": "2020-10-14T04:37:33.906542Z",
     "iopub.status.idle": "2020-10-14T04:37:34.928941Z",
     "shell.execute_reply": "2020-10-14T04:37:34.928446Z"
    },
    "id": "M8RcXmDR-mkW",
    "outputId": "932c56f3-d1a0-4672-96b7-8cf43434d17d"
   },
   "outputs": [],
   "source": [
    "from sklearn.ensemble import RandomForestClassifier\n",
    "\n",
    "forest = RandomForestClassifier(criterion='gini',\n",
    "                                n_estimators=25, \n",
    "                                random_state=1,\n",
    "                                n_jobs=1)\n",
    "forest.fit(X_train, y_train)\n",
    "\n",
    "plot_decision_regions(X_combined, y_combined, \n",
    "                      classifier=forest, test_idx=range(105, 150))\n",
    "\n",
    "plt.xlabel('petal length [cm]')\n",
    "plt.ylabel('petal width [cm]')\n",
    "plt.legend(loc='upper left')\n",
    "plt.tight_layout()\n",
    "# plt.savefig('images/03_22.png', dpi=300)\n",
    "plt.show()"
   ]
  },
  {
   "cell_type": "code",
   "execution_count": null,
   "metadata": {},
   "outputs": [],
   "source": [
    "\n",
    "forest = RandomForestClassifier(criterion='gini',\n",
    "                                n_estimators=1000, \n",
    "                                random_state=1,\n",
    "                                n_jobs=1,\n",
    "                                max_depth = 3)\n",
    "forest.fit(X_train, y_train)\n",
    "y_pred = forest.predict(X_test)\n",
    "cm = confusion_matrix(y_test, y_pred)\n",
    "dm = classification_report(y_test, y_pred)\n",
    "\n",
    "print(\"%s \\n %s\" %(cm, dm))"
   ]
  },
  {
   "cell_type": "markdown",
   "metadata": {
    "id": "tGL5ASF4-mkW"
   },
   "source": [
    "<br>\n",
    "<br>"
   ]
  },
  {
   "cell_type": "code",
   "execution_count": null,
   "metadata": {
    "colab": {
     "base_uri": "https://localhost:8080/",
     "height": 297
    },
    "execution": {
     "iopub.execute_input": "2020-10-14T04:37:34.980766Z",
     "iopub.status.busy": "2020-10-14T04:37:34.979132Z",
     "iopub.status.idle": "2020-10-14T04:37:37.504662Z",
     "shell.execute_reply": "2020-10-14T04:37:37.503858Z"
    },
    "id": "QraSYmba-mkW",
    "outputId": "c597c3da-f1e5-427e-9d26-96e144a85c80"
   },
   "outputs": [],
   "source": [
    "from sklearn.neighbors import KNeighborsClassifier\n",
    "\n",
    "knn = KNeighborsClassifier(n_neighbors=5, \n",
    "                           p=2, \n",
    "                           metric='minkowski')\n",
    "knn.fit(X_train_std, y_train)\n",
    "\n",
    "plot_decision_regions(X_combined_std, y_combined, \n",
    "                      classifier=knn, test_idx=range(105, 150))\n",
    "\n",
    "plt.xlabel('petal length [standardized]')\n",
    "plt.ylabel('petal width [standardized]')\n",
    "plt.legend(loc='upper left')\n",
    "plt.tight_layout()\n",
    "# plt.savefig('images/03_24.png', dpi=300)\n",
    "plt.show()"
   ]
  },
  {
   "cell_type": "code",
   "execution_count": null,
   "metadata": {},
   "outputs": [],
   "source": [
    "knn = KNeighborsClassifier(n_neighbors=5, \n",
    "                           p=2, \n",
    "                           metric='minkowski')\n",
    "knn.fit(X_train_std, y_train)\n",
    "\n",
    "y_pred = knn.predict(X_test_std)\n",
    "cm = confusion_matrix(y_test, y_pred)\n",
    "cm = confusion_matrix(y_test, y_pred)\n",
    "dm = classification_report(y_test, y_pred)\n",
    "\n",
    "print(\"%s \\n %s\" %(cm, dm))"
   ]
  },
  {
   "cell_type": "markdown",
   "metadata": {
    "id": "ddItQpN1-mkW"
   },
   "source": [
    "<br>\n",
    "<br>"
   ]
  }
 ],
 "metadata": {
  "anaconda-cloud": {},
  "colab": {
   "name": "ch03.ipynb",
   "provenance": []
  },
  "kernelspec": {
   "display_name": "Python 3.11.9 ('myvenv': venv)",
   "language": "python",
   "name": "python3"
  },
  "language_info": {
   "codemirror_mode": {
    "name": "ipython",
    "version": 3
   },
   "file_extension": ".py",
   "mimetype": "text/x-python",
   "name": "python",
   "nbconvert_exporter": "python",
   "pygments_lexer": "ipython3",
   "version": "3.12.2"
  },
  "toc": {
   "nav_menu": {},
   "number_sections": true,
   "sideBar": true,
   "skip_h1_title": false,
   "title_cell": "Table of Contents",
   "title_sidebar": "Contents",
   "toc_cell": false,
   "toc_position": {},
   "toc_section_display": true,
   "toc_window_display": false
  },
  "vscode": {
   "interpreter": {
    "hash": "3d744fc59d75c807537886f995b52faa6beae0d4651c0ff982b71c36e7f79fc7"
   }
  }
 },
 "nbformat": 4,
 "nbformat_minor": 4
}
