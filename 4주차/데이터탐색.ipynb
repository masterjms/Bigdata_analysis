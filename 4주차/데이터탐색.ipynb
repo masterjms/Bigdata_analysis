{
 "cells": [
  {
   "cell_type": "markdown",
   "metadata": {},
   "source": [
    "### 1.데이터 그룹 분석 "
   ]
  },
  {
   "cell_type": "markdown",
   "metadata": {},
   "source": [
    "#### 집계합수"
   ]
  },
  {
   "cell_type": "code",
   "execution_count": 1,
   "metadata": {},
   "outputs": [
    {
     "data": {
      "text/html": [
       "<div>\n",
       "<style scoped>\n",
       "    .dataframe tbody tr th:only-of-type {\n",
       "        vertical-align: middle;\n",
       "    }\n",
       "\n",
       "    .dataframe tbody tr th {\n",
       "        vertical-align: top;\n",
       "    }\n",
       "\n",
       "    .dataframe thead th {\n",
       "        text-align: right;\n",
       "    }\n",
       "</style>\n",
       "<table border=\"1\" class=\"dataframe\">\n",
       "  <thead>\n",
       "    <tr style=\"text-align: right;\">\n",
       "      <th></th>\n",
       "      <th>student_no</th>\n",
       "      <th>class</th>\n",
       "      <th>science</th>\n",
       "      <th>english</th>\n",
       "      <th>math</th>\n",
       "      <th>sex</th>\n",
       "    </tr>\n",
       "  </thead>\n",
       "  <tbody>\n",
       "    <tr>\n",
       "      <th>0</th>\n",
       "      <td>1</td>\n",
       "      <td>A</td>\n",
       "      <td>50</td>\n",
       "      <td>98</td>\n",
       "      <td>49</td>\n",
       "      <td>m</td>\n",
       "    </tr>\n",
       "    <tr>\n",
       "      <th>1</th>\n",
       "      <td>2</td>\n",
       "      <td>A</td>\n",
       "      <td>60</td>\n",
       "      <td>97</td>\n",
       "      <td>60</td>\n",
       "      <td>w</td>\n",
       "    </tr>\n",
       "    <tr>\n",
       "      <th>2</th>\n",
       "      <td>3</td>\n",
       "      <td>A</td>\n",
       "      <td>78</td>\n",
       "      <td>86</td>\n",
       "      <td>45</td>\n",
       "      <td>w</td>\n",
       "    </tr>\n",
       "    <tr>\n",
       "      <th>3</th>\n",
       "      <td>4</td>\n",
       "      <td>A</td>\n",
       "      <td>58</td>\n",
       "      <td>98</td>\n",
       "      <td>30</td>\n",
       "      <td>m</td>\n",
       "    </tr>\n",
       "    <tr>\n",
       "      <th>4</th>\n",
       "      <td>5</td>\n",
       "      <td>B</td>\n",
       "      <td>65</td>\n",
       "      <td>80</td>\n",
       "      <td>90</td>\n",
       "      <td>w</td>\n",
       "    </tr>\n",
       "    <tr>\n",
       "      <th>5</th>\n",
       "      <td>6</td>\n",
       "      <td>B</td>\n",
       "      <td>98</td>\n",
       "      <td>89</td>\n",
       "      <td>51</td>\n",
       "      <td>m</td>\n",
       "    </tr>\n",
       "    <tr>\n",
       "      <th>6</th>\n",
       "      <td>7</td>\n",
       "      <td>B</td>\n",
       "      <td>45</td>\n",
       "      <td>90</td>\n",
       "      <td>80</td>\n",
       "      <td>m</td>\n",
       "    </tr>\n",
       "    <tr>\n",
       "      <th>7</th>\n",
       "      <td>8</td>\n",
       "      <td>B</td>\n",
       "      <td>25</td>\n",
       "      <td>78</td>\n",
       "      <td>90</td>\n",
       "      <td>w</td>\n",
       "    </tr>\n",
       "    <tr>\n",
       "      <th>8</th>\n",
       "      <td>9</td>\n",
       "      <td>C</td>\n",
       "      <td>15</td>\n",
       "      <td>98</td>\n",
       "      <td>20</td>\n",
       "      <td>w</td>\n",
       "    </tr>\n",
       "    <tr>\n",
       "      <th>9</th>\n",
       "      <td>10</td>\n",
       "      <td>C</td>\n",
       "      <td>45</td>\n",
       "      <td>93</td>\n",
       "      <td>55</td>\n",
       "      <td>w</td>\n",
       "    </tr>\n",
       "  </tbody>\n",
       "</table>\n",
       "</div>"
      ],
      "text/plain": [
       "   student_no class  science  english  math sex\n",
       "0           1     A       50       98    49   m\n",
       "1           2     A       60       97    60   w\n",
       "2           3     A       78       86    45   w\n",
       "3           4     A       58       98    30   m\n",
       "4           5     B       65       80    90   w\n",
       "5           6     B       98       89    51   m\n",
       "6           7     B       45       90    80   m\n",
       "7           8     B       25       78    90   w\n",
       "8           9     C       15       98    20   w\n",
       "9          10     C       45       93    55   w"
      ]
     },
     "execution_count": 1,
     "metadata": {},
     "output_type": "execute_result"
    }
   ],
   "source": [
    "#판다스 라이브러리 불러오기\n",
    "import pandas as pd \n",
    "\n",
    "#파일경로를 찾고 변수 file_path에 저장\n",
    "file_path= 'exam_sample.csv'\n",
    "\n",
    "#read csv()함수로 데이터프레임 변환 \n",
    "df = pd.read_csv(file_path)\n",
    "df"
   ]
  },
  {
   "cell_type": "code",
   "execution_count": null,
   "metadata": {},
   "outputs": [
    {
     "data": {
      "text/plain": [
       "class\n",
       "A    61.50\n",
       "B    58.25\n",
       "C    30.00\n",
       "Name: science, dtype: float64"
      ]
     },
     "execution_count": 3,
     "metadata": {},
     "output_type": "execute_result"
    }
   ],
   "source": [
    " # 반별 로 그룹화(A,B,C반)\n",
    "# 반별 그룹 오브젝트만 생성\n",
    "df1 = df.groupby('class')\n",
    "type(df1)\n",
    "df1['science'].mean() # 과학 부분의 반 별 평균"
   ]
  },
  {
   "cell_type": "code",
   "execution_count": 4,
   "metadata": {},
   "outputs": [
    {
     "data": {
      "text/html": [
       "<div>\n",
       "<style scoped>\n",
       "    .dataframe tbody tr th:only-of-type {\n",
       "        vertical-align: middle;\n",
       "    }\n",
       "\n",
       "    .dataframe tbody tr th {\n",
       "        vertical-align: top;\n",
       "    }\n",
       "\n",
       "    .dataframe thead th {\n",
       "        text-align: right;\n",
       "    }\n",
       "</style>\n",
       "<table border=\"1\" class=\"dataframe\">\n",
       "  <thead>\n",
       "    <tr style=\"text-align: right;\">\n",
       "      <th></th>\n",
       "      <th>student_no</th>\n",
       "      <th>class</th>\n",
       "      <th>science</th>\n",
       "      <th>english</th>\n",
       "      <th>math</th>\n",
       "      <th>sex</th>\n",
       "    </tr>\n",
       "  </thead>\n",
       "  <tbody>\n",
       "    <tr>\n",
       "      <th>0</th>\n",
       "      <td>1</td>\n",
       "      <td>A</td>\n",
       "      <td>50</td>\n",
       "      <td>98</td>\n",
       "      <td>49</td>\n",
       "      <td>m</td>\n",
       "    </tr>\n",
       "    <tr>\n",
       "      <th>1</th>\n",
       "      <td>2</td>\n",
       "      <td>A</td>\n",
       "      <td>60</td>\n",
       "      <td>97</td>\n",
       "      <td>60</td>\n",
       "      <td>w</td>\n",
       "    </tr>\n",
       "    <tr>\n",
       "      <th>2</th>\n",
       "      <td>3</td>\n",
       "      <td>A</td>\n",
       "      <td>78</td>\n",
       "      <td>86</td>\n",
       "      <td>45</td>\n",
       "      <td>w</td>\n",
       "    </tr>\n",
       "    <tr>\n",
       "      <th>3</th>\n",
       "      <td>4</td>\n",
       "      <td>A</td>\n",
       "      <td>58</td>\n",
       "      <td>98</td>\n",
       "      <td>30</td>\n",
       "      <td>m</td>\n",
       "    </tr>\n",
       "  </tbody>\n",
       "</table>\n",
       "</div>"
      ],
      "text/plain": [
       "   student_no class  science  english  math sex\n",
       "0           1     A       50       98    49   m\n",
       "1           2     A       60       97    60   w\n",
       "2           3     A       78       86    45   w\n",
       "3           4     A       58       98    30   m"
      ]
     },
     "execution_count": 4,
     "metadata": {},
     "output_type": "execute_result"
    }
   ],
   "source": [
    "# 반 중 A반 그룹만 확인\n",
    "df1.get_group('A')\n"
   ]
  },
  {
   "cell_type": "code",
   "execution_count": null,
   "metadata": {},
   "outputs": [
    {
     "data": {
      "text/html": [
       "<div>\n",
       "<style scoped>\n",
       "    .dataframe tbody tr th:only-of-type {\n",
       "        vertical-align: middle;\n",
       "    }\n",
       "\n",
       "    .dataframe tbody tr th {\n",
       "        vertical-align: top;\n",
       "    }\n",
       "\n",
       "    .dataframe thead th {\n",
       "        text-align: right;\n",
       "    }\n",
       "</style>\n",
       "<table border=\"1\" class=\"dataframe\">\n",
       "  <thead>\n",
       "    <tr style=\"text-align: right;\">\n",
       "      <th></th>\n",
       "      <th>science</th>\n",
       "      <th>english</th>\n",
       "      <th>math</th>\n",
       "    </tr>\n",
       "    <tr>\n",
       "      <th>class</th>\n",
       "      <th></th>\n",
       "      <th></th>\n",
       "      <th></th>\n",
       "    </tr>\n",
       "  </thead>\n",
       "  <tbody>\n",
       "    <tr>\n",
       "      <th>A</th>\n",
       "      <td>61.50</td>\n",
       "      <td>94.75</td>\n",
       "      <td>46.00</td>\n",
       "    </tr>\n",
       "    <tr>\n",
       "      <th>B</th>\n",
       "      <td>58.25</td>\n",
       "      <td>84.25</td>\n",
       "      <td>77.75</td>\n",
       "    </tr>\n",
       "    <tr>\n",
       "      <th>C</th>\n",
       "      <td>30.00</td>\n",
       "      <td>95.50</td>\n",
       "      <td>37.50</td>\n",
       "    </tr>\n",
       "  </tbody>\n",
       "</table>\n",
       "</div>"
      ],
      "text/plain": [
       "       science  english   math\n",
       "class                         \n",
       "A        61.50    94.75  46.00\n",
       "B        58.25    84.25  77.75\n",
       "C        30.00    95.50  37.50"
      ]
     },
     "execution_count": 5,
     "metadata": {},
     "output_type": "execute_result"
    }
   ],
   "source": [
    "# 반별 그룹 평균 확인 - 항상 groupby안에는 범주형만 들어가야한다. 숫자는 안됨.\n",
    "df[['science','english','math']].groupby(df['class']).mean()"
   ]
  },
  {
   "cell_type": "code",
   "execution_count": 6,
   "metadata": {},
   "outputs": [
    {
     "data": {
      "text/html": [
       "<div>\n",
       "<style scoped>\n",
       "    .dataframe tbody tr th:only-of-type {\n",
       "        vertical-align: middle;\n",
       "    }\n",
       "\n",
       "    .dataframe tbody tr th {\n",
       "        vertical-align: top;\n",
       "    }\n",
       "\n",
       "    .dataframe thead th {\n",
       "        text-align: right;\n",
       "    }\n",
       "</style>\n",
       "<table border=\"1\" class=\"dataframe\">\n",
       "  <thead>\n",
       "    <tr style=\"text-align: right;\">\n",
       "      <th></th>\n",
       "      <th></th>\n",
       "      <th>student_no</th>\n",
       "      <th>science</th>\n",
       "      <th>english</th>\n",
       "      <th>math</th>\n",
       "    </tr>\n",
       "    <tr>\n",
       "      <th>class</th>\n",
       "      <th>sex</th>\n",
       "      <th></th>\n",
       "      <th></th>\n",
       "      <th></th>\n",
       "      <th></th>\n",
       "    </tr>\n",
       "  </thead>\n",
       "  <tbody>\n",
       "    <tr>\n",
       "      <th rowspan=\"2\" valign=\"top\">A</th>\n",
       "      <th>m</th>\n",
       "      <td>2.5</td>\n",
       "      <td>54.0</td>\n",
       "      <td>98.0</td>\n",
       "      <td>39.5</td>\n",
       "    </tr>\n",
       "    <tr>\n",
       "      <th>w</th>\n",
       "      <td>2.5</td>\n",
       "      <td>69.0</td>\n",
       "      <td>91.5</td>\n",
       "      <td>52.5</td>\n",
       "    </tr>\n",
       "    <tr>\n",
       "      <th rowspan=\"2\" valign=\"top\">B</th>\n",
       "      <th>m</th>\n",
       "      <td>6.5</td>\n",
       "      <td>71.5</td>\n",
       "      <td>89.5</td>\n",
       "      <td>65.5</td>\n",
       "    </tr>\n",
       "    <tr>\n",
       "      <th>w</th>\n",
       "      <td>6.5</td>\n",
       "      <td>45.0</td>\n",
       "      <td>79.0</td>\n",
       "      <td>90.0</td>\n",
       "    </tr>\n",
       "    <tr>\n",
       "      <th>C</th>\n",
       "      <th>w</th>\n",
       "      <td>9.5</td>\n",
       "      <td>30.0</td>\n",
       "      <td>95.5</td>\n",
       "      <td>37.5</td>\n",
       "    </tr>\n",
       "  </tbody>\n",
       "</table>\n",
       "</div>"
      ],
      "text/plain": [
       "           student_no  science  english  math\n",
       "class sex                                    \n",
       "A     m           2.5     54.0     98.0  39.5\n",
       "      w           2.5     69.0     91.5  52.5\n",
       "B     m           6.5     71.5     89.5  65.5\n",
       "      w           6.5     45.0     79.0  90.0\n",
       "C     w           9.5     30.0     95.5  37.5"
      ]
     },
     "execution_count": 6,
     "metadata": {},
     "output_type": "execute_result"
    }
   ],
   "source": [
    "# 반별,성별 그룹 평균 확인\n",
    "df.groupby(['class','sex']).mean()"
   ]
  },
  {
   "cell_type": "code",
   "execution_count": 9,
   "metadata": {},
   "outputs": [
    {
     "data": {
      "text/plain": [
       "class\n",
       "A    46.00\n",
       "B    77.75\n",
       "C    37.50\n",
       "Name: math, dtype: float64"
      ]
     },
     "execution_count": 9,
     "metadata": {},
     "output_type": "execute_result"
    }
   ],
   "source": [
    "# 반별 수학 평균\n",
    "df['math'].groupby(df['class']).mean()\n",
    "df.groupby(df['class'])['math'].mean()"
   ]
  },
  {
   "cell_type": "code",
   "execution_count": null,
   "metadata": {},
   "outputs": [],
   "source": [
    "# 반별 수학 개수\n",
    "df['math'].groupby(df['class']).count()"
   ]
  },
  {
   "cell_type": "code",
   "execution_count": 7,
   "metadata": {},
   "outputs": [
    {
     "name": "stdout",
     "output_type": "stream",
     "text": [
      "sex\n",
      "m    52.5\n",
      "w    60.0\n",
      "Name: math, dtype: float64\n",
      "<pandas.core.groupby.generic.DataFrameGroupBy object at 0x75dc19b23320>\n",
      "{'m': [0, 3, 5, 6], 'w': [1, 2, 4, 7, 8, 9]}\n"
     ]
    }
   ],
   "source": [
    "# 성별 수학평균\n",
    "df_mean=df['math'].groupby(df['sex']).mean()\n",
    "\n",
    "gendergroup = df.groupby('sex')\n",
    "\n",
    "print(df_mean)\n",
    "print(gendergroup)\n",
    "print(gendergroup.groups)"
   ]
  },
  {
   "cell_type": "code",
   "execution_count": 8,
   "metadata": {},
   "outputs": [
    {
     "name": "stdout",
     "output_type": "stream",
     "text": [
      "   student_no class  science  english  math sex\n",
      "0           1     A       50       98    49   m\n",
      "3           4     A       58       98    30   m\n",
      "5           6     B       98       89    51   m\n",
      "6           7     B       45       90    80   m\n",
      "  sex  math\n",
      "0   m    49\n",
      "3   m    30\n",
      "5   m    51\n",
      "6   m    80\n"
     ]
    }
   ],
   "source": [
    "# 남학생 수학평균\n",
    "male=gendergroup.get_group('m')\n",
    "subset = male[['sex', 'math']]\n",
    "print(male)\n",
    "print(subset)"
   ]
  },
  {
   "cell_type": "markdown",
   "metadata": {},
   "source": [
    "### 2.데이터 재구조화"
   ]
  },
  {
   "cell_type": "markdown",
   "metadata": {},
   "source": [
    "#### 데이터 구간화"
   ]
  },
  {
   "cell_type": "code",
   "execution_count": null,
   "metadata": {},
   "outputs": [],
   "source": [
    "#판다스 라이브러리 불러오기\n",
    "import pandas as pd \n",
    "\n",
    "#파일경로를 찾고 변수 file_path에 저장\n",
    "file_path= 'exam_sample.csv'\n",
    "\n",
    "#read csv()함수로 데이터프레임 변환 \n",
    "df = pd.read_csv(file_path)\n",
    "df"
   ]
  },
  {
   "cell_type": "code",
   "execution_count": null,
   "metadata": {},
   "outputs": [],
   "source": [
    "#math 변수에 대해서 3개 동일한 길이로 범주형 변수로 만들어보자 범주 구간은 Categories (3, interval[float64]): [(19.93, 43.333] < (43.333, 66.667] < (66.667, 90.0]] 로 3개 구간 길이가 동일함을 알 수 있다.\n",
    "df1=pd.cut(df.math, 3)\n",
    "df1"
   ]
  },
  {
   "cell_type": "code",
   "execution_count": null,
   "metadata": {},
   "outputs": [],
   "source": [
    "#math 변수에 3개 구간의 범주를 그룹 함수를 추가해서 각 범주의 그룹별로 agg( ) 함수인 개수(count), 평균(mean), 표준편차(std), 최소값(min), 최대값(max) 값을 계산해보자 \n",
    "df2 = df.math.groupby(df1)\n",
    "df2\n",
    "df3=df2.agg(['count', 'mean', 'std', 'min', 'max'])\n",
    "df3"
   ]
  },
  {
   "cell_type": "code",
   "execution_count": null,
   "metadata": {},
   "outputs": [],
   "source": [
    "#pd.qcut() 함수를 사용 math에 대해서 각 범주 구간 별로 동일하게 3개의 개수를 가지도록 범주를 만들수도 있다. 이때 labels=False 로 설정하여 label이 0, 1, 2 구간을 0부터 순차적으로 1씩 증가하게 한다.  \n",
    "df4= pd.qcut(df.math, 3, labels=False)\n",
    "df4"
   ]
  },
  {
   "cell_type": "code",
   "execution_count": null,
   "metadata": {},
   "outputs": [],
   "source": [
    "#아래처럼 labels=np.arange(3, 0, -1)로 직접 지정을 해주면 label이 3, 2, 1 로 3부터 1씩 줄어드는 순서로 할당이 된다. 위의 label 과 정 반대로 할당이 되었다. \n",
    "\n",
    "import numpy as np \n",
    "df5 = pd.qcut(df.math, 3, labels=np.arange(3, 0, -1))\n",
    "df5"
   ]
  },
  {
   "cell_type": "code",
   "execution_count": null,
   "metadata": {},
   "outputs": [],
   "source": [
    " # [3 < 2 < 1] 순서로 동일 개수로 나눈 3개의 그룹별 통계량을 계산 할 수 있다. \n",
    "df6 = df.math.groupby(df5)\n",
    "df7=df6.agg(['count', 'mean', 'std', 'min', 'max'])\n",
    "df7"
   ]
  },
  {
   "cell_type": "markdown",
   "metadata": {},
   "source": [
    "#### 원-핫인코딩"
   ]
  },
  {
   "cell_type": "code",
   "execution_count": null,
   "metadata": {},
   "outputs": [],
   "source": [
    "# 유형확인\n",
    "df.dtypes\n"
   ]
  },
  {
   "cell_type": "code",
   "execution_count": null,
   "metadata": {},
   "outputs": [],
   "source": [
    "# 범주형 원핫코딩\n",
    "df = pd.get_dummies(df)\n",
    "df"
   ]
  },
  {
   "cell_type": "markdown",
   "metadata": {},
   "source": [
    "#### 데이터 전치"
   ]
  },
  {
   "cell_type": "code",
   "execution_count": null,
   "metadata": {},
   "outputs": [],
   "source": [
    "# 원자료\n",
    "df = pd.read_csv(file_path)\n",
    "df"
   ]
  },
  {
   "cell_type": "code",
   "execution_count": null,
   "metadata": {},
   "outputs": [],
   "source": [
    "# 전치 자료\n",
    "df.T"
   ]
  },
  {
   "cell_type": "markdown",
   "metadata": {},
   "source": [
    "#### 피봇테이블"
   ]
  },
  {
   "cell_type": "code",
   "execution_count": null,
   "metadata": {},
   "outputs": [],
   "source": [
    "# 원자료와 피봇 자료는 확인해보자\n",
    "df"
   ]
  },
  {
   "cell_type": "code",
   "execution_count": null,
   "metadata": {},
   "outputs": [],
   "source": [
    "# 반(class) 변수를 행 데이터로 피봇\n",
    "pd.pivot_table(df,index='class', columns='sex', values='science')"
   ]
  },
  {
   "cell_type": "code",
   "execution_count": null,
   "metadata": {},
   "outputs": [],
   "source": [
    "# 성별(sex) 변수를 행 데이터로 피봇\n",
    "pd.pivot_table(df,index='sex', columns='class', values='science') "
   ]
  },
  {
   "cell_type": "markdown",
   "metadata": {},
   "source": [
    "#### 멜트 "
   ]
  },
  {
   "cell_type": "code",
   "execution_count": null,
   "metadata": {},
   "outputs": [],
   "source": [
    "# 멜트 함수 \n",
    "pd.melt(df,id_vars=['student_no', 'class'])"
   ]
  },
  {
   "cell_type": "markdown",
   "metadata": {},
   "source": [
    "#### 스택/언스택"
   ]
  },
  {
   "cell_type": "code",
   "execution_count": null,
   "metadata": {},
   "outputs": [],
   "source": [
    "df"
   ]
  },
  {
   "cell_type": "code",
   "execution_count": null,
   "metadata": {},
   "outputs": [],
   "source": [
    "# 스택/언스택\n",
    "df5 = df.stack()\n",
    "df5"
   ]
  },
  {
   "cell_type": "code",
   "execution_count": null,
   "metadata": {},
   "outputs": [],
   "source": [
    "df6 = df.unstack(level=-1)\n",
    "df6"
   ]
  },
  {
   "cell_type": "markdown",
   "metadata": {},
   "source": [
    "### 3. 시계열 데이터"
   ]
  },
  {
   "cell_type": "markdown",
   "metadata": {},
   "source": [
    "#### 시간 조작"
   ]
  },
  {
   "cell_type": "code",
   "execution_count": null,
   "metadata": {},
   "outputs": [],
   "source": [
    "# Period 객체는 to_period(freq='기간인수')를 통해 datetime 변수에 대해 어떤 기간에 따른 자료형을 생성하고자 할 때 주로 활용\n",
    "#datetime 유형에 대해서만 적용 가능\n",
    "\n",
    "# 시간 정의\n",
    "dates = ['2020-01-03','2020-03-01','2021-09-01']\n",
    "dates\n"
   ]
  },
  {
   "cell_type": "code",
   "execution_count": null,
   "metadata": {},
   "outputs": [],
   "source": [
    "# 시간자료형 생성\n",
    "import pandas as pd\n",
    "\n",
    "ts_dates = pd.to_datetime(dates)\n",
    "ts_dates\n"
   ]
  },
  {
   "cell_type": "code",
   "execution_count": null,
   "metadata": {},
   "outputs": [],
   "source": [
    "# Timestamp를 Period변환\n",
    "pr_day = ts_dates.to_period(freq='D')   #1일 기간\n",
    "pr_day"
   ]
  },
  {
   "cell_type": "code",
   "execution_count": null,
   "metadata": {},
   "outputs": [],
   "source": [
    "pr_month = ts_dates.to_period(freq='M') #1개월 기간\n",
    "pr_month"
   ]
  },
  {
   "cell_type": "code",
   "execution_count": null,
   "metadata": {},
   "outputs": [],
   "source": [
    "pr_year = ts_dates.to_period(freq='A')  #1년 기간\n",
    "pr_year"
   ]
  },
  {
   "cell_type": "markdown",
   "metadata": {},
   "source": [
    "#### 타임스탬프"
   ]
  },
  {
   "cell_type": "code",
   "execution_count": null,
   "metadata": {},
   "outputs": [],
   "source": [
    "#판다스 라이브러리 불러오기\n",
    "import pandas as pd \n",
    "#파일경로를 찾고 변수 file_path에 저장\n",
    "file_path= 'timeseries.csv'\n",
    "#read csv()함수로 데이터프레임 변환 \n",
    "df= pd.read_csv(file_path)\n",
    "\n",
    "# 현재 날짜를 나타내는 Date컬럼은 문자형(object)이므로 to_datetime()함수를 이용해서 Date컬럼을 시계열 객체(Timestamp)로 변환\n",
    "df.info()\n",
    "df['new_Date'] = pd.to_datetime(df['Date'])\n",
    "print(df.head())\n",
    "print('\\n')"
   ]
  },
  {
   "cell_type": "code",
   "execution_count": null,
   "metadata": {},
   "outputs": [],
   "source": [
    "print(df.info())\n",
    "print('\\n')\n",
    "print(type(df['new_Date'][0]))"
   ]
  },
  {
   "cell_type": "code",
   "execution_count": null,
   "metadata": {},
   "outputs": [],
   "source": [
    "# 기존 Date열을 지우고 new_Date를 인덱스로 지정\n",
    "# 데이터요약정보를 보면, 인덱스가 DatetimeIndex변경 되었고 2015년07월02일에서 2019년06월26일 사이에 5개 날짜가 있다. \n",
    "df.drop('Date', axis = 1, inplace=True)\n",
    "df.set_index('new_Date', inplace=True)\n",
    "print(df.head())\n",
    "print('\\n')\n",
    "print(df.info())"
   ]
  },
  {
   "cell_type": "code",
   "execution_count": null,
   "metadata": {},
   "outputs": [],
   "source": [
    "# Timestamp와 Period의 차이 확인 , Timestamp를 Period로 변환\n",
    "# Period객체는 to_period(freq='기간인수')를 통해 datetime변수에 대해 어떤 기간에 따른 자료형을 생성하고자 할 때 주로 활용된다. 아무 자료형이나 사용할 수 없고 datetime유형에 대해서만 적용 가능\n",
    "dates = ['2020-01-01','2020-03-01','2021-09-01']\n",
    "ts_dates = pd.to_datetime(dates)\n",
    "print(ts_dates)\n",
    "print('\\n')"
   ]
  },
  {
   "cell_type": "code",
   "execution_count": null,
   "metadata": {},
   "outputs": [],
   "source": [
    "# Timestamp를 Period변환\n",
    "pr_day = ts_dates.to_period(freq='D')   #1일 기간\n",
    "print(pr_day)\n",
    "pr_month = ts_dates.to_period(freq='M') #1개월 기간\n",
    "print(pr_month)\n",
    "pr_year = ts_dates.to_period(freq='A')  #1년 기간\n",
    "print(pr_year)"
   ]
  },
  {
   "cell_type": "markdown",
   "metadata": {},
   "source": [
    "#### 기간함수"
   ]
  },
  {
   "cell_type": "code",
   "execution_count": null,
   "metadata": {},
   "outputs": [],
   "source": [
    "timestamp_df = pd.date_range(start = '2020-01-01',  # 날짜 범위 시작\n",
    "                     end = None, # 날짜 범위 끝\n",
    "                     periods = 6, # 생성할 Timestamp 개수\n",
    "                     freq = 'MS', # 시간 간격(MS : 월의 시작일)\n",
    "                     tz = 'Asia/Seoul') # 시간대(timezone)\n",
    "timestamp_df"
   ]
  },
  {
   "cell_type": "code",
   "execution_count": null,
   "metadata": {},
   "outputs": [],
   "source": [
    "# period_range()\n",
    "#Period는 기간을 나타내는 자료형 이므로, 배열을 적용할때 freq= 인자는 기간의 단위를 의미한다\n",
    "\n",
    "# 1개월 기간\n",
    "pr_m = pd.period_range(start = '2020-01-01',end = None,periods = 3,freq = 'M') \n",
    "print(pr_m)\n",
    "print('\\n')\n",
    "\n",
    "# 1시간 기간\n",
    "pr_h = pd.period_range(start = '2020-01-01',end = None,periods = 3,freq = 'H')           \n",
    "print(pr_h)\n",
    "print('\\n')\n",
    "\n",
    "# 2시간 기간\n",
    "pr_2h = pd.period_range(start = '2020-01-01',end = None,periods = 3,freq = '2H')          \n",
    "print(pr_2h)"
   ]
  },
  {
   "cell_type": "code",
   "execution_count": null,
   "metadata": {},
   "outputs": [],
   "source": [
    "# 시계열 활용\n",
    "# 날짜 데이터 분리 날짜 데이터 분리 : dt.year, dt.month, dt.day\n",
    "#판다스 라이브러리 불러오기\n",
    "\n",
    "import pandas as pd \n",
    "#파일경로를 찾고 변수 file_path에 저장\n",
    "file_path= 'timeseries.csv'\n",
    "#read csv()함수로 데이터프레임 변환 \n",
    "df= pd.read_csv(file_path)\n",
    "df.info()\n",
    "df['new_Date'] = pd.to_datetime(df['Date'])\n",
    "print(df.head())\n",
    "print('\\n')\n",
    " \n",
    "df['Year'] = df['new_Date'].dt.year\n",
    "df['Month'] = df['new_Date'].dt.month\n",
    "df['Day'] = df['new_Date'].dt.hour\n",
    "df.head()\n"
   ]
  },
  {
   "cell_type": "code",
   "execution_count": null,
   "metadata": {},
   "outputs": [],
   "source": [
    "# to_period()함수를 이용해 표기 변경 \n",
    "df['Date_yr'] = df['new_Date'].dt.to_period(freq = 'A')  # 연도까지\n",
    "df['Date_m'] = df['new_Date'].dt.to_period(freq = 'H')   # 연월까지\n",
    "df.head()"
   ]
  },
  {
   "cell_type": "code",
   "execution_count": null,
   "metadata": {},
   "outputs": [],
   "source": [
    "# 날짜 인덱스 지정\n",
    "df.set_index('new_Date',inplace=True)\n",
    "df.head()"
   ]
  },
  {
   "cell_type": "code",
   "execution_count": null,
   "metadata": {},
   "outputs": [],
   "source": [
    "# 날짜 인덱싱\n",
    "print(df.loc['2015-07']) # 7월에 해당하는 row 인덱싱\n",
    "print('\\n')\n",
    "print(df['2019-06']) # 6월에 해당하는 row 인덱싱\n",
    "print('\\n')\n",
    "print(df['2018-06-25' : '2018-06-20'])  # 해당기간의 인덱싱"
   ]
  },
  {
   "cell_type": "code",
   "execution_count": null,
   "metadata": {},
   "outputs": [],
   "source": [
    "# 오늘날짜와 차리 열 추가\n",
    "today = pd.to_datetime('2020-03-18')\n",
    "df['time_diff'] = today - df.index\n",
    "df.head()"
   ]
  },
  {
   "cell_type": "code",
   "execution_count": null,
   "metadata": {},
   "outputs": [],
   "source": [
    "# 데이터를 다시 불러와 시간 인덱스 지정 후 단순 시각화\n",
    "import pandas as pd \n",
    "#파일경로를 찾고 변수 file_path에 저장\n",
    "file_path= 'timeseries.csv'\n",
    "#read csv()함수로 데이터프레임 변환 \n",
    "df= pd.read_csv(file_path)\n",
    "df['new_Date'] = pd.to_datetime(df['Date'])\n",
    "df.set_index('new_Date',inplace=True)\n",
    "df.plot()"
   ]
  }
 ],
 "metadata": {
  "kernelspec": {
   "display_name": "Python 3",
   "language": "python",
   "name": "python3"
  },
  "language_info": {
   "codemirror_mode": {
    "name": "ipython",
    "version": 3
   },
   "file_extension": ".py",
   "mimetype": "text/x-python",
   "name": "python",
   "nbconvert_exporter": "python",
   "pygments_lexer": "ipython3",
   "version": "3.12.1"
  }
 },
 "nbformat": 4,
 "nbformat_minor": 2
}
