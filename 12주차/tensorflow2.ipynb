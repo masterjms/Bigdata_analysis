{
 "cells": [
  {
   "cell_type": "markdown",
   "metadata": {
    "id": "eCV-Fq80uMCM"
   },
   "source": [
    "## 텐서플로의 주요 특징"
   ]
  },
  {
   "cell_type": "code",
   "execution_count": null,
   "metadata": {
    "id": "zhIE7wfwuMCO"
   },
   "outputs": [],
   "source": [
    "import tensorflow as tf\n",
    "import numpy as np\n",
    "import pandas as pd\n",
    "import matplotlib.pyplot as plt"
   ]
  },
  {
   "cell_type": "code",
   "execution_count": null,
   "metadata": {
    "colab": {
     "base_uri": "https://localhost:8080/",
     "height": 37
    },
    "id": "-Peo6UCHuOMv",
    "outputId": "e418d81c-0a37-48ca-ac18-58d703383f75"
   },
   "outputs": [],
   "source": [
    "tf.__version__"
   ]
  },
  {
   "cell_type": "markdown",
   "metadata": {
    "id": "sJQHF5-fuMCY"
   },
   "source": [
    "## 케라스 API를 사용해 간단하게 일반적인 구조 구현하기"
   ]
  },
  {
   "cell_type": "code",
   "execution_count": null,
   "metadata": {
    "colab": {
     "base_uri": "https://localhost:8080/"
    },
    "id": "qikbGL6FuMCZ",
    "outputId": "fb0e2b87-1e59-41c4-b7b7-ff581387a233"
   },
   "outputs": [],
   "source": [
    "model = tf.keras.Sequential()\n",
    "model.add(tf.keras.layers.Dense(units=16, activation='relu'))\n",
    "model.add(tf.keras.layers.Dense(units=32, activation='relu'))\n",
    "\n",
    "## 변수 지연 생성\n",
    "model.build(input_shape=(None, 4))\n",
    "model.summary()"
   ]
  },
  {
   "cell_type": "markdown",
   "metadata": {
    "id": "ZLIQM0xYuMCZ"
   },
   "source": [
    "### XOR 분류 문제 풀어보기"
   ]
  },
  {
   "cell_type": "code",
   "execution_count": null,
   "metadata": {
    "colab": {
     "base_uri": "https://localhost:8080/",
     "height": 394
    },
    "id": "vJxkx_TAuMCa",
    "outputId": "7925ed73-c7f4-4533-8a3f-0fb13353f2fa",
    "scrolled": true
   },
   "outputs": [],
   "source": [
    "tf.random.set_seed(1)\n",
    "np.random.seed(1)\n",
    "\n",
    "x = np.random.uniform(low=-1, high=1, size=(200, 2))\n",
    "y = np.ones(len(x))\n",
    "y[x[:, 0] * x[:, 1]<0] = 0\n",
    "\n",
    "x_train = x[:100, :]\n",
    "y_train = y[:100]\n",
    "x_valid = x[100:, :]\n",
    "y_valid = y[100:]\n",
    "\n",
    "fig = plt.figure(figsize=(6, 6))\n",
    "plt.plot(x[y==0, 0], \n",
    "         x[y==0, 1], 'o', alpha=0.75, markersize=10)\n",
    "plt.plot(x[y==1, 0], \n",
    "         x[y==1, 1], '<', alpha=0.75, markersize=10)\n",
    "plt.xlabel(r'$x_1$', size=15)\n",
    "plt.ylabel(r'$x_2$', size=15)\n",
    "\n",
    "plt.show()"
   ]
  },
  {
   "cell_type": "code",
   "execution_count": null,
   "metadata": {
    "colab": {
     "base_uri": "https://localhost:8080/"
    },
    "id": "F8uAWPsguMCa",
    "outputId": "4c093c88-689a-4f17-e55a-b01d5dc0b683"
   },
   "outputs": [],
   "source": [
    "model = tf.keras.Sequential()\n",
    "model.add(tf.keras.layers.Dense(units=1, \n",
    "                                input_shape=(2,), \n",
    "                                activation='sigmoid'))\n",
    "\n",
    "model.summary()"
   ]
  },
  {
   "cell_type": "code",
   "execution_count": null,
   "metadata": {
    "id": "uDX1wO92uMCa",
    "scrolled": true
   },
   "outputs": [],
   "source": [
    "model.compile(optimizer=tf.keras.optimizers.SGD(),\n",
    "              loss=tf.keras.losses.BinaryCrossentropy(),\n",
    "              metrics=[tf.keras.metrics.BinaryAccuracy()])"
   ]
  },
  {
   "cell_type": "code",
   "execution_count": null,
   "metadata": {
    "id": "2otPTzMxuMCa"
   },
   "outputs": [],
   "source": [
    "hist = model.fit(x_train, y_train, \n",
    "                 validation_data=(x_valid, y_valid), \n",
    "                 epochs=200, batch_size=2, verbose=0)"
   ]
  },
  {
   "cell_type": "code",
   "execution_count": null,
   "metadata": {},
   "outputs": [],
   "source": [
    "from matplotlib.colors import ListedColormap\n",
    "import matplotlib.pyplot as plt\n",
    "\n",
    "def plot_decision_regions(X, y, classifier, test_idx=None, resolution=0.02):\n",
    "\n",
    "    # 마커와 컬러맵을 설정합니다.\n",
    "    markers = ('s', '>', 'o', '^', 'v')\n",
    "    colors = ('red', 'blue', 'lightgreen', 'gray', 'cyan')\n",
    "    cmap = ListedColormap(colors[:len(np.unique(y))])\n",
    "\n",
    "    # 결정 경계를 그립니다.\n",
    "    x1_min, x1_max = X[:, 0].min() - 1, X[:, 0].max() + 1\n",
    "    x2_min, x2_max = X[:, 1].min() - 1, X[:, 1].max() + 1\n",
    "    xx1, xx2 = np.meshgrid(np.arange(x1_min, x1_max, resolution),\n",
    "                           np.arange(x2_min, x2_max, resolution))\n",
    "    Z = classifier.predict(np.array([xx1.ravel(), xx2.ravel()]).T)\n",
    "    Z = Z.reshape(xx1.shape)\n",
    "    plt.contourf(xx1, xx2, Z, alpha=0.3, cmap=cmap)\n",
    "    plt.xlim(xx1.min(), xx1.max())\n",
    "    plt.ylim(xx2.min(), xx2.max())\n",
    "\n",
    "    for idx, cl in enumerate(np.unique(y)):\n",
    "        plt.scatter(x=X[y == cl, 0], \n",
    "                    y=X[y == cl, 1],\n",
    "                    alpha=0.8, \n",
    "                    c=colors[idx],\n",
    "                    marker=markers[idx], \n",
    "                    label=cl, \n",
    "                    edgecolor='black')\n",
    "\n",
    "    # 테스트 샘플을 부각하여 그립니다.\n",
    "    if test_idx:\n",
    "        # 모든 샘플을 그립니다.\n",
    "        X_test, y_test = X[test_idx, :], y[test_idx]\n",
    "\n",
    "        plt.scatter(X_test[:, 0],\n",
    "                    X_test[:, 1],\n",
    "                    facecolor='none',\n",
    "                    edgecolor='black',\n",
    "                    alpha=1.0,\n",
    "                    linewidth=1,\n",
    "                    marker='o',\n",
    "                    s=100, \n",
    "                    label='test set')"
   ]
  },
  {
   "cell_type": "code",
   "execution_count": null,
   "metadata": {
    "colab": {
     "base_uri": "https://localhost:8080/",
     "height": 330
    },
    "id": "TdofpXaAuMCa",
    "outputId": "5d3fb127-4e49-451d-90f8-e41b77669d59"
   },
   "outputs": [],
   "source": [
    "#from mlxtend.plotting import plot_decision_regions\n",
    "\n",
    "history = hist.history\n",
    "\n",
    "fig = plt.figure(figsize=(16, 4))\n",
    "ax = fig.add_subplot(1, 3, 1)\n",
    "plt.plot(history['loss'], lw=4)\n",
    "plt.plot(history['val_loss'], lw=4)\n",
    "plt.legend(['Train loss', 'Validation loss'], fontsize=15)\n",
    "ax.set_xlabel('Epochs', size=15)\n",
    "\n",
    "ax = fig.add_subplot(1, 3, 2)\n",
    "plt.plot(history['binary_accuracy'], lw=4)\n",
    "plt.plot(history['val_binary_accuracy'], lw=4)\n",
    "plt.legend(['Train Acc.', 'Validation Acc.'], fontsize=15)\n",
    "ax.set_xlabel('Epochs', size=15)\n",
    "\n",
    "ax = fig.add_subplot(1, 3, 3)\n",
    "plot_decision_regions(X=x_valid, y=y_valid.astype(np.integer),\n",
    "                      classifier=model)\n",
    "ax.set_xlabel(r'$x_1$', size=15)\n",
    "ax.xaxis.set_label_coords(1, -0.025)\n",
    "ax.set_ylabel(r'$x_2$', size=15)\n",
    "ax.yaxis.set_label_coords(-0.025, 1)\n",
    "plt.show()"
   ]
  },
  {
   "cell_type": "code",
   "execution_count": null,
   "metadata": {
    "colab": {
     "base_uri": "https://localhost:8080/"
    },
    "id": "WINOBAGSuMCa",
    "outputId": "4a928a8a-395d-49bd-9c23-017eb10f1256"
   },
   "outputs": [],
   "source": [
    "tf.random.set_seed(1)\n",
    "\n",
    "model = tf.keras.Sequential()\n",
    "model.add(tf.keras.layers.Dense(units=4, input_shape=(2,), activation='relu'))\n",
    "model.add(tf.keras.layers.Dense(units=4, activation='relu'))\n",
    "model.add(tf.keras.layers.Dense(units=4, activation='relu'))\n",
    "model.add(tf.keras.layers.Dense(units=1, activation='sigmoid'))\n",
    "\n",
    "model.summary()\n",
    "\n",
    "## 컴파일:\n",
    "model.compile(optimizer=tf.keras.optimizers.SGD(),\n",
    "              loss=tf.keras.losses.BinaryCrossentropy(),\n",
    "              metrics=[tf.keras.metrics.BinaryAccuracy()])\n",
    "\n",
    "## 훈련:\n",
    "hist = model.fit(x_train, y_train, \n",
    "                 validation_data=(x_valid, y_valid), \n",
    "                 epochs=200, batch_size=2, verbose=0)\n",
    "\n",
    "history = hist.history"
   ]
  },
  {
   "cell_type": "code",
   "execution_count": null,
   "metadata": {
    "colab": {
     "base_uri": "https://localhost:8080/",
     "height": 347
    },
    "id": "Ukg6EnHsuMCb",
    "outputId": "9afb70ec-2f3f-4adc-d217-7776df480d80"
   },
   "outputs": [],
   "source": [
    "fig = plt.figure(figsize=(16, 4))\n",
    "ax = fig.add_subplot(1, 3, 1)\n",
    "plt.plot(history['loss'], lw=4)\n",
    "plt.plot(history['val_loss'], lw=4)\n",
    "plt.legend(['Train loss', 'Validation loss'], fontsize=15)\n",
    "ax.set_xlabel('Epochs', size=15)\n",
    "\n",
    "ax = fig.add_subplot(1, 3, 2)\n",
    "plt.plot(history['binary_accuracy'], lw=4)\n",
    "plt.plot(history['val_binary_accuracy'], lw=4)\n",
    "plt.legend(['Train Acc.', 'Validation Acc.'], fontsize=15)\n",
    "ax.set_xlabel('Epochs', size=15)\n",
    "\n",
    "ax = fig.add_subplot(1, 3, 3)\n",
    "plot_decision_regions(X=x_valid, y=y_valid.astype(np.integer),\n",
    "                      classifier=model)\n",
    "ax.set_xlabel(r'$x_1$', size=15)\n",
    "ax.xaxis.set_label_coords(1, -0.025)\n",
    "ax.set_ylabel(r'$x_2$', size=15)\n",
    "ax.yaxis.set_label_coords(-0.025, 1)\n",
    "\n",
    "plt.show()"
   ]
  },
  {
   "cell_type": "markdown",
   "metadata": {
    "id": "a80uG6IruMCb"
   },
   "source": [
    "### 케라스 함수형 API로 유연성이 높은 모델 만들기"
   ]
  },
  {
   "cell_type": "code",
   "execution_count": null,
   "metadata": {
    "colab": {
     "base_uri": "https://localhost:8080/"
    },
    "id": "SWsKMeXguMCb",
    "outputId": "07136733-2975-4a37-fca7-81f2725d0f04"
   },
   "outputs": [],
   "source": [
    "tf.random.set_seed(1)\n",
    "\n",
    "## 입력층\n",
    "inputs = tf.keras.Input(shape=(2,))\n",
    "\n",
    "## 은닉층\n",
    "h1 = tf.keras.layers.Dense(units=4, activation='relu')(inputs)\n",
    "h2 = tf.keras.layers.Dense(units=4, activation='relu')(h1)\n",
    "h3 = tf.keras.layers.Dense(units=4, activation='relu')(h2)\n",
    "\n",
    "## 출력층\n",
    "outputs = tf.keras.layers.Dense(units=1, activation='sigmoid')(h3)\n",
    "\n",
    "## 모델 만들기\n",
    "model = tf.keras.Model(inputs=inputs, outputs=outputs)\n",
    "\n",
    "model.summary()"
   ]
  },
  {
   "cell_type": "code",
   "execution_count": null,
   "metadata": {
    "colab": {
     "base_uri": "https://localhost:8080/",
     "height": 330
    },
    "id": "_UJWTq9luMCb",
    "outputId": "e1527ad4-99fa-4e47-e3cd-1a2e6df6e29e"
   },
   "outputs": [],
   "source": [
    "## 컴파일\n",
    "model.compile(optimizer=tf.keras.optimizers.SGD(),\n",
    "              loss=tf.keras.losses.BinaryCrossentropy(),\n",
    "              metrics=[tf.keras.metrics.BinaryAccuracy()])\n",
    "\n",
    "## 훈련\n",
    "hist = model.fit(x_train, y_train, \n",
    "                 validation_data=(x_valid, y_valid), \n",
    "                 epochs=200, batch_size=2, verbose=0)\n",
    "\n",
    "## 그래프 그리기\n",
    "history = hist.history\n",
    "\n",
    "fig = plt.figure(figsize=(16, 4))\n",
    "ax = fig.add_subplot(1, 3, 1)\n",
    "plt.plot(history['loss'], lw=4)\n",
    "plt.plot(history['val_loss'], lw=4)\n",
    "plt.legend(['Train loss', 'Validation loss'], fontsize=15)\n",
    "ax.set_xlabel('Epochs', size=15)\n",
    "\n",
    "ax = fig.add_subplot(1, 3, 2)\n",
    "plt.plot(history['binary_accuracy'], lw=4)\n",
    "plt.plot(history['val_binary_accuracy'], lw=4)\n",
    "plt.legend(['Train Acc.', 'Validation Acc.'], fontsize=15)\n",
    "ax.set_xlabel('Epochs', size=15)\n",
    "\n",
    "ax = fig.add_subplot(1, 3, 3)\n",
    "plot_decision_regions(X=x_valid, y=y_valid.astype(np.integer),\n",
    "                      classifier=model)\n",
    "ax.set_xlabel(r'$x_1$', size=15)\n",
    "ax.xaxis.set_label_coords(1, -0.025)\n",
    "ax.set_ylabel(r'$x_2$', size=15)\n",
    "ax.yaxis.set_label_coords(-0.025, 1)\n",
    "plt.show()"
   ]
  },
  {
   "cell_type": "markdown",
   "metadata": {
    "id": "2_Mj06wOuMCb"
   },
   "source": [
    "### 케라스의 Model 클래스 기반으로 모델 만들기\n",
    "\n",
    "#### `tf.keras.Model` 클래스 상속\n",
    "\n",
    " * `__init__()` 구현\n",
    " * `call()` 구현"
   ]
  },
  {
   "cell_type": "code",
   "execution_count": null,
   "metadata": {
    "colab": {
     "base_uri": "https://localhost:8080/",
     "height": 602
    },
    "id": "8rqJ4pisuMCc",
    "outputId": "d9293135-cef8-4cf4-dc8d-32abca4e1e5b"
   },
   "outputs": [],
   "source": [
    "class MyModel(tf.keras.Model):\n",
    "    def __init__(self):\n",
    "        super(MyModel, self).__init__()\n",
    "        self.hidden_1 = tf.keras.layers.Dense(units=4, activation='relu')\n",
    "        self.hidden_2 = tf.keras.layers.Dense(units=4, activation='relu')\n",
    "        self.hidden_3 = tf.keras.layers.Dense(units=4, activation='relu')\n",
    "        self.output_layer = tf.keras.layers.Dense(units=1, activation='sigmoid')\n",
    "        \n",
    "    def call(self, inputs):\n",
    "        h = self.hidden_1(inputs)\n",
    "        h = self.hidden_2(h)\n",
    "        h = self.hidden_3(h)\n",
    "        return self.output_layer(h)\n",
    "    \n",
    "tf.random.set_seed(1)\n",
    "\n",
    "## 테스트\n",
    "model = MyModel()\n",
    "model.build(input_shape=(None, 2))\n",
    "\n",
    "model.summary()\n",
    "\n",
    "## 컴파일\n",
    "model.compile(optimizer=tf.keras.optimizers.SGD(),\n",
    "              loss=tf.keras.losses.BinaryCrossentropy(),\n",
    "              metrics=[tf.keras.metrics.BinaryAccuracy()])\n",
    "\n",
    "## 훈련\n",
    "hist = model.fit(x_train, y_train, \n",
    "                 validation_data=(x_valid, y_valid), \n",
    "                 epochs=200, batch_size=2, verbose=0)\n",
    "\n",
    "## 그래프 그리기\n",
    "history = hist.history\n",
    "\n",
    "fig = plt.figure(figsize=(16, 4))\n",
    "ax = fig.add_subplot(1, 3, 1)\n",
    "plt.plot(history['loss'], lw=4)\n",
    "plt.plot(history['val_loss'], lw=4)\n",
    "plt.legend(['Train loss', 'Validation loss'], fontsize=15)\n",
    "ax.set_xlabel('Epochs', size=15)\n",
    "\n",
    "ax = fig.add_subplot(1, 3, 2)\n",
    "plt.plot(history['binary_accuracy'], lw=4)\n",
    "plt.plot(history['val_binary_accuracy'], lw=4)\n",
    "plt.legend(['Train Acc.', 'Validation Acc.'], fontsize=15)\n",
    "ax.set_xlabel('Epochs', size=15)\n",
    "\n",
    "ax = fig.add_subplot(1, 3, 3)\n",
    "plot_decision_regions(X=x_valid, y=y_valid.astype(np.integer),\n",
    "                      classifier=model)\n",
    "ax.set_xlabel(r'$x_1$', size=15)\n",
    "ax.xaxis.set_label_coords(1, -0.025)\n",
    "ax.set_ylabel(r'$x_2$', size=15)\n",
    "ax.yaxis.set_label_coords(-0.025, 1)\n",
    "plt.show()"
   ]
  }
 ],
 "metadata": {
  "accelerator": "GPU",
  "colab": {
   "name": "ch14_part1.ipynb",
   "provenance": []
  },
  "kernelspec": {
   "display_name": "Python 3.11.9 ('tfvenv': venv)",
   "language": "python",
   "name": "python3"
  },
  "language_info": {
   "codemirror_mode": {
    "name": "ipython",
    "version": 3
   },
   "file_extension": ".py",
   "mimetype": "text/x-python",
   "name": "python",
   "nbconvert_exporter": "python",
   "pygments_lexer": "ipython3",
   "version": "3.11.9"
  },
  "vscode": {
   "interpreter": {
    "hash": "d27ec992bbd930a501e3524185931c63928156a3e94959c39d2fc1b9f08b7167"
   }
  }
 },
 "nbformat": 4,
 "nbformat_minor": 4
}
