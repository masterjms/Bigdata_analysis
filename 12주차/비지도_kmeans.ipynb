{
 "cells": [
  {
   "cell_type": "markdown",
   "metadata": {
    "id": "_jp38ToZlsd7"
   },
   "source": [
    "# k-평균 알고리즘을 사용하여 유사한 객체 그룹핑"
   ]
  },
  {
   "cell_type": "markdown",
   "metadata": {
    "id": "QUiYlcuHlsd7"
   },
   "source": [
    "## 사이킷런을 사용한 k-평균 군집"
   ]
  },
  {
   "cell_type": "code",
   "execution_count": null,
   "metadata": {
    "id": "jbzyHg5Elsd7"
   },
   "outputs": [],
   "source": [
    "from sklearn.datasets import make_blobs\n",
    "\n",
    "X, y = make_blobs(n_samples=150, \n",
    "                  n_features=2, \n",
    "                  centers=3, \n",
    "                  cluster_std=0.5, \n",
    "                  shuffle=True, \n",
    "                  random_state=0)\n",
    "\n",
    "X"
   ]
  },
  {
   "cell_type": "code",
   "execution_count": null,
   "metadata": {
    "colab": {
     "base_uri": "https://localhost:8080/",
     "height": 297
    },
    "id": "ROCmGQl9lsd8",
    "outputId": "42c9a059-2652-4d2f-e90a-ceb55df78cba"
   },
   "outputs": [],
   "source": [
    "import matplotlib.pyplot as plt\n",
    "\n",
    "plt.scatter(X[:, 0], X[:, 1], \n",
    "            c='white', marker='o', edgecolor='black', s=50)\n",
    "plt.grid()\n",
    "plt.tight_layout()\n",
    "plt.show()"
   ]
  },
  {
   "cell_type": "code",
   "execution_count": null,
   "metadata": {
    "id": "6t8fxe8hlsd8"
   },
   "outputs": [],
   "source": [
    "from sklearn.cluster import KMeans\n",
    "\n",
    "km = KMeans(n_clusters=3, \n",
    "            init='random', \n",
    "            n_init=10, \n",
    "            max_iter=300,\n",
    "            tol=1e-04,\n",
    "            random_state=0)\n",
    "\n",
    "y_km = km.fit_predict(X)\n"
   ]
  },
  {
   "cell_type": "code",
   "execution_count": null,
   "metadata": {
    "colab": {
     "base_uri": "https://localhost:8080/",
     "height": 297
    },
    "id": "uH6KDjPglsd8",
    "outputId": "99f35622-1bde-463c-d86c-718e8f83affd"
   },
   "outputs": [],
   "source": [
    "plt.scatter(X[y_km == 0, 0],\n",
    "            X[y_km == 0, 1],\n",
    "            s=50, c='lightgreen',\n",
    "            marker='s', edgecolor='black',\n",
    "            label='Cluster 1')\n",
    "plt.scatter(X[y_km == 1, 0],\n",
    "            X[y_km == 1, 1],\n",
    "            s=50, c='orange',\n",
    "            marker='o', edgecolor='black',\n",
    "            label='Cluster 2')\n",
    "plt.scatter(X[y_km == 2, 0],\n",
    "            X[y_km == 2, 1],\n",
    "            s=50, c='lightblue',\n",
    "            marker='v', edgecolor='black',\n",
    "            label='Cluster 3')\n",
    "plt.scatter(km.cluster_centers_[:, 0],\n",
    "            km.cluster_centers_[:, 1],\n",
    "            s=250, marker='*',\n",
    "            c='red', edgecolor='black',\n",
    "            label='Centroids')\n",
    "plt.legend(scatterpoints=1)\n",
    "plt.grid()\n",
    "plt.tight_layout()\n",
    "\n",
    "plt.show()"
   ]
  },
  {
   "cell_type": "markdown",
   "metadata": {
    "id": "c9JXA1PRlsd9"
   },
   "source": [
    "<br>"
   ]
  },
  {
   "cell_type": "markdown",
   "metadata": {
    "id": "pHhc5F78lsd9"
   },
   "source": [
    "## k-평균 ++"
   ]
  },
  {
   "cell_type": "markdown",
   "metadata": {
    "id": "9Y0eBpr7lsd9"
   },
   "source": [
    "..."
   ]
  },
  {
   "cell_type": "markdown",
   "metadata": {
    "id": "SDjpKK3-lsd-"
   },
   "source": [
    "## 엘보우 방법을 사용하여 최적의 클러스터 개수 찾기"
   ]
  },
  {
   "cell_type": "code",
   "execution_count": null,
   "metadata": {
    "colab": {
     "base_uri": "https://localhost:8080/"
    },
    "id": "HkOCdPuRlsd-",
    "outputId": "2260ff28-ddba-45f0-eff7-68d446c61b02"
   },
   "outputs": [],
   "source": [
    "print('왜곡: %.2f' % km.inertia_)"
   ]
  },
  {
   "cell_type": "code",
   "execution_count": null,
   "metadata": {
    "colab": {
     "base_uri": "https://localhost:8080/",
     "height": 297
    },
    "id": "1x5O1iKElsd-",
    "outputId": "50199fdb-f2b7-419e-f42b-25b3a6d231c8"
   },
   "outputs": [],
   "source": [
    "distortions = []\n",
    "for i in range(1, 11):\n",
    "    km = KMeans(n_clusters=i, \n",
    "                init='k-means++', \n",
    "                n_init=10, \n",
    "                max_iter=300, \n",
    "                random_state=0)\n",
    "    km.fit(X)\n",
    "    distortions.append(km.inertia_)\n",
    "plt.plot(range(1, 11), distortions, marker='o')\n",
    "plt.xlabel('Number of clusters')\n",
    "plt.ylabel('Distortion')\n",
    "plt.tight_layout()\n",
    "plt.show()"
   ]
  },
  {
   "cell_type": "markdown",
   "metadata": {
    "id": "tgkiKdjnlsd-"
   },
   "source": [
    "<br>"
   ]
  },
  {
   "cell_type": "markdown",
   "metadata": {
    "id": "S9bk-zc6lsd_"
   },
   "source": [
    "## 실루엣 그래프로 군집 품질을 정량화"
   ]
  },
  {
   "cell_type": "code",
   "execution_count": null,
   "metadata": {
    "colab": {
     "base_uri": "https://localhost:8080/",
     "height": 297
    },
    "id": "yfExDwu-lsd_",
    "outputId": "14775a07-9ac4-4f3b-e480-cb4df8238b71"
   },
   "outputs": [],
   "source": [
    "import numpy as np\n",
    "from matplotlib import cm\n",
    "from sklearn.metrics import silhouette_samples\n",
    "\n",
    "km = KMeans(n_clusters=3, \n",
    "            init='k-means++', \n",
    "            n_init=10, \n",
    "            max_iter=300,\n",
    "            tol=1e-04,\n",
    "            random_state=0)\n",
    "y_km = km.fit_predict(X)\n",
    "\n",
    "cluster_labels = np.unique(y_km)\n",
    "n_clusters = cluster_labels.shape[0]\n",
    "silhouette_vals = silhouette_samples(X, y_km, metric='euclidean')\n",
    "y_ax_lower, y_ax_upper = 0, 0\n",
    "yticks = []\n",
    "for i, c in enumerate(cluster_labels):\n",
    "    c_silhouette_vals = silhouette_vals[y_km == c]\n",
    "    c_silhouette_vals.sort()\n",
    "    y_ax_upper += len(c_silhouette_vals)\n",
    "    color = cm.jet(float(i) / n_clusters)\n",
    "    plt.barh(range(y_ax_lower, y_ax_upper), c_silhouette_vals, height=1.0, \n",
    "             edgecolor='none', color=color)\n",
    "\n",
    "    yticks.append((y_ax_lower + y_ax_upper) / 2.)\n",
    "    y_ax_lower += len(c_silhouette_vals)\n",
    "    \n",
    "silhouette_avg = np.mean(silhouette_vals)\n",
    "plt.axvline(silhouette_avg, color=\"red\", linestyle=\"--\") \n",
    "\n",
    "plt.yticks(yticks, cluster_labels + 1)\n",
    "plt.ylabel('Cluster')\n",
    "plt.xlabel('Silhouette coefficient')\n",
    "\n",
    "plt.tight_layout()\n",
    "# plt.savefig('images/11_04.png', dpi=300)\n",
    "plt.show()"
   ]
  },
  {
   "cell_type": "markdown",
   "metadata": {
    "id": "8jLodeOrlsd_"
   },
   "source": [
    "잘못된 클러스터링:"
   ]
  },
  {
   "cell_type": "code",
   "execution_count": null,
   "metadata": {
    "colab": {
     "base_uri": "https://localhost:8080/",
     "height": 297
    },
    "id": "1xzn7tXVlsd_",
    "outputId": "84c9c594-14a6-4aec-b8ff-8b6b1bab2930"
   },
   "outputs": [],
   "source": [
    "km = KMeans(n_clusters=2,\n",
    "            init='k-means++',\n",
    "            n_init=10,\n",
    "            max_iter=300,\n",
    "            tol=1e-04,\n",
    "            random_state=0)\n",
    "y_km = km.fit_predict(X)\n",
    "\n",
    "plt.scatter(X[y_km == 0, 0],\n",
    "            X[y_km == 0, 1],\n",
    "            s=50,\n",
    "            c='lightgreen',\n",
    "            edgecolor='black',\n",
    "            marker='s',\n",
    "            label='Cluster 1')\n",
    "plt.scatter(X[y_km == 1, 0],\n",
    "            X[y_km == 1, 1],\n",
    "            s=50,\n",
    "            c='orange',\n",
    "            edgecolor='black',\n",
    "            marker='o',\n",
    "            label='Cluster 2')\n",
    "\n",
    "plt.scatter(km.cluster_centers_[:, 0], km.cluster_centers_[:, 1],\n",
    "            s=250, marker='*', c='red', label='Centroids')\n",
    "plt.legend()\n",
    "plt.grid()\n",
    "plt.tight_layout()\n",
    "# plt.savefig('images/11_05.png', dpi=300)\n",
    "plt.show()"
   ]
  },
  {
   "cell_type": "code",
   "execution_count": null,
   "metadata": {
    "colab": {
     "base_uri": "https://localhost:8080/",
     "height": 297
    },
    "id": "S32hzlcSlseA",
    "outputId": "f2367531-1e1c-4b32-d928-05b6d42767b2"
   },
   "outputs": [],
   "source": [
    "cluster_labels = np.unique(y_km)\n",
    "n_clusters = cluster_labels.shape[0]\n",
    "silhouette_vals = silhouette_samples(X, y_km, metric='euclidean')\n",
    "y_ax_lower, y_ax_upper = 0, 0\n",
    "yticks = []\n",
    "for i, c in enumerate(cluster_labels):\n",
    "    c_silhouette_vals = silhouette_vals[y_km == c]\n",
    "    c_silhouette_vals.sort()\n",
    "    y_ax_upper += len(c_silhouette_vals)\n",
    "    color = cm.jet(float(i) / n_clusters)\n",
    "    plt.barh(range(y_ax_lower, y_ax_upper), c_silhouette_vals, height=1.0, \n",
    "             edgecolor='none', color=color)\n",
    "\n",
    "    yticks.append((y_ax_lower + y_ax_upper) / 2.)\n",
    "    y_ax_lower += len(c_silhouette_vals)\n",
    "    \n",
    "silhouette_avg = np.mean(silhouette_vals)\n",
    "plt.axvline(silhouette_avg, color=\"red\", linestyle=\"--\") \n",
    "\n",
    "plt.yticks(yticks, cluster_labels + 1)\n",
    "plt.ylabel('Cluster')\n",
    "plt.xlabel('Silhouette coefficient')\n",
    "\n",
    "plt.tight_layout()\n",
    "# plt.savefig('images/11_06.png', dpi=300)\n",
    "plt.show()"
   ]
  },
  {
   "cell_type": "markdown",
   "metadata": {
    "id": "Cl8H3FMPlseA"
   },
   "source": [
    "<br>\n",
    "<br>"
   ]
  },
  {
   "cell_type": "markdown",
   "metadata": {
    "id": "QU22iAUFlseF"
   },
   "source": [
    "<br>\n",
    "<br>"
   ]
  }
 ],
 "metadata": {
  "anaconda-cloud": {},
  "colab": {
   "name": "ch11.ipynb",
   "provenance": []
  },
  "kernelspec": {
   "display_name": "Python 3.11.9 ('tfvenv': venv)",
   "language": "python",
   "name": "python3"
  },
  "language_info": {
   "codemirror_mode": {
    "name": "ipython",
    "version": 3
   },
   "file_extension": ".py",
   "mimetype": "text/x-python",
   "name": "python",
   "nbconvert_exporter": "python",
   "pygments_lexer": "ipython3",
   "version": "3.11.9"
  },
  "vscode": {
   "interpreter": {
    "hash": "d27ec992bbd930a501e3524185931c63928156a3e94959c39d2fc1b9f08b7167"
   }
  }
 },
 "nbformat": 4,
 "nbformat_minor": 4
}
